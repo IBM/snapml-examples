{
 "cells": [
  {
   "cell_type": "markdown",
   "metadata": {},
   "source": [
    "```\n",
    "Copyright 2021 IBM Corporation\n",
    "\n",
    "Licensed under the Apache License, Version 2.0 (the \"License\");\n",
    "you may not use this file except in compliance with the License.\n",
    "You may obtain a copy of the License at\n",
    "\n",
    "     http://www.apache.org/licenses/LICENSE-2.0\n",
    "\n",
    "Unless required by applicable law or agreed to in writing, software\n",
    "distributed under the License is distributed on an \"AS IS\" BASIS,\n",
    "WITHOUT WARRANTIES OR CONDITIONS OF ANY KIND, either express or implied.\n",
    "See the License for the specific language governing permissions and\n",
    "limitations under the License.\n",
    "```"
   ]
  },
  {
   "cell_type": "markdown",
   "metadata": {},
   "source": [
    "# Support Vector Machine on Avazu Dataset\n",
    "\n",
    "## Background \n",
    "\n",
    "This data is used in a competition on click-through rate prediction jointly hosted by Avazu and Kaggle in 2014. The participants were asked to learn a model from the first 10 days of advertising log, and predict the click probability for the impressions on the 11th day\n",
    "\n",
    "## Source\n",
    "\n",
    "The raw dataset can be obtained directly from the [Kaggle competition](https://www.kaggle.com/c/avazu-ctr-prediction/).\n",
    "\n",
    "In this example, we download the pre-processed dataset from the [LIBSVM dataset repository](https://www.csie.ntu.edu.tw/~cjlin/libsvmtools/datasets/).\n",
    "\n",
    "## Goal\n",
    "The goal of this notebook is to illustrate how Snap ML can accelerate training of a support vector machine model on this dataset.\n",
    "\n",
    "## Code"
   ]
  },
  {
   "cell_type": "code",
   "execution_count": 1,
   "metadata": {
    "execution": {
     "iopub.execute_input": "2021-03-01T18:43:38.513589Z",
     "iopub.status.busy": "2021-03-01T18:43:38.512409Z",
     "iopub.status.idle": "2021-03-01T18:43:38.517134Z",
     "shell.execute_reply": "2021-03-01T18:43:38.517916Z"
    }
   },
   "outputs": [
    {
     "name": "stdout",
     "output_type": "stream",
     "text": [
      "/home/aan/snapml-examples/examples\n"
     ]
    }
   ],
   "source": [
    "cd ../../"
   ]
  },
  {
   "cell_type": "code",
   "execution_count": 2,
   "metadata": {
    "execution": {
     "iopub.execute_input": "2021-03-01T18:43:38.523966Z",
     "iopub.status.busy": "2021-03-01T18:43:38.522569Z",
     "iopub.status.idle": "2021-03-01T18:43:38.525683Z",
     "shell.execute_reply": "2021-03-01T18:43:38.525084Z"
    }
   },
   "outputs": [],
   "source": [
    "CACHE_DIR='cache-dir'"
   ]
  },
  {
   "cell_type": "code",
   "execution_count": 3,
   "metadata": {
    "execution": {
     "iopub.execute_input": "2021-03-01T18:43:38.530551Z",
     "iopub.status.busy": "2021-03-01T18:43:38.529852Z",
     "iopub.status.idle": "2021-03-01T18:43:39.217771Z",
     "shell.execute_reply": "2021-03-01T18:43:39.218135Z"
    }
   },
   "outputs": [],
   "source": [
    "import numpy as np\n",
    "import time\n",
    "from datasets import Avazu\n",
    "from sklearn.svm import LinearSVC\n",
    "from snapml import SupportVectorMachine as SnapSupportVectorMachine\n",
    "from sklearn.metrics import accuracy_score as score"
   ]
  },
  {
   "cell_type": "code",
   "execution_count": 4,
   "metadata": {
    "execution": {
     "iopub.execute_input": "2021-03-01T18:43:39.222009Z",
     "iopub.status.busy": "2021-03-01T18:43:39.221433Z",
     "iopub.status.idle": "2021-03-01T18:43:43.124511Z",
     "shell.execute_reply": "2021-03-01T18:43:43.124850Z"
    }
   },
   "outputs": [
    {
     "name": "stdout",
     "output_type": "stream",
     "text": [
      "Reading binary Avazu dataset (cache) from disk.\n"
     ]
    }
   ],
   "source": [
    "dataset= Avazu(cache_dir=CACHE_DIR)\n",
    "X_train, X_test, y_train, y_test = dataset.get_train_test_split()"
   ]
  },
  {
   "cell_type": "code",
   "execution_count": 5,
   "metadata": {
    "execution": {
     "iopub.execute_input": "2021-03-01T18:43:43.128397Z",
     "iopub.status.busy": "2021-03-01T18:43:43.127916Z",
     "iopub.status.idle": "2021-03-01T18:43:43.537299Z",
     "shell.execute_reply": "2021-03-01T18:43:43.536918Z"
    }
   },
   "outputs": [
    {
     "name": "stdout",
     "output_type": "stream",
     "text": [
      "Number of examples: 12642186\n",
      "Number of features: 1000000\n",
      "Number of classes:  2\n"
     ]
    }
   ],
   "source": [
    "print(\"Number of examples: %d\" % (X_train.shape[0]))\n",
    "print(\"Number of features: %d\" % (X_train.shape[1]))\n",
    "print(\"Number of classes:  %d\" % (len(np.unique(y_train))))"
   ]
  },
  {
   "cell_type": "code",
   "execution_count": 6,
   "metadata": {},
   "outputs": [
    {
     "name": "stdout",
     "output_type": "stream",
     "text": [
      " 88.28 % of the training transactions belong to class 0\n",
      " 11.72 % of the training transactions belong to class 1\n"
     ]
    }
   ],
   "source": [
    "# the dataset is highly imbalanced\n",
    "labels, sizes = np.unique(y_train, return_counts=True)\n",
    "print(\"%6.2f %% of the training transactions belong to class 0\" % (sizes[0]*100.0/(sizes[0]+sizes[1])))\n",
    "print(\"%6.2f %% of the training transactions belong to class 1\" % (sizes[1]*100.0/(sizes[0]+sizes[1])))"
   ]
  },
  {
   "cell_type": "code",
   "execution_count": 7,
   "metadata": {
    "execution": {
     "iopub.execute_input": "2021-03-01T18:43:43.541281Z",
     "iopub.status.busy": "2021-03-01T18:43:43.540837Z",
     "iopub.status.idle": "2021-03-01T18:45:20.625930Z",
     "shell.execute_reply": "2021-03-01T18:45:20.626269Z"
    }
   },
   "outputs": [
    {
     "name": "stderr",
     "output_type": "stream",
     "text": [
      "/home/aan/anaconda3/envs/snapenv2/lib/python3.8/site-packages/sklearn/svm/_base.py:985: ConvergenceWarning: Liblinear failed to converge, increase the number of iterations.\n",
      "  warnings.warn(\"Liblinear failed to converge, increase \"\n"
     ]
    },
    {
     "name": "stdout",
     "output_type": "stream",
     "text": [
      "Training time (sklearn): 3380.56 seconds\n",
      "Accuracy score (sklearn): 0.6478\n"
     ]
    }
   ],
   "source": [
    "model = LinearSVC(loss=\"hinge\", class_weight=\"balanced\")\n",
    "t0 = time.time()\n",
    "model.fit(X_train, y_train)\n",
    "t_fit_sklearn = time.time()-t0\n",
    "score_sklearn = score(y_test, model.predict(X_test))\n",
    "print(\"Training time (sklearn): %6.2f seconds\" % (t_fit_sklearn))\n",
    "print(\"Accuracy score (sklearn): %.4f\" % (score_sklearn))"
   ]
  },
  {
   "cell_type": "code",
   "execution_count": 7,
   "metadata": {
    "execution": {
     "iopub.execute_input": "2021-03-01T18:45:20.632141Z",
     "iopub.status.busy": "2021-03-01T18:45:20.631422Z",
     "iopub.status.idle": "2021-03-01T18:45:31.495683Z",
     "shell.execute_reply": "2021-03-01T18:45:31.496170Z"
    }
   },
   "outputs": [
    {
     "name": "stdout",
     "output_type": "stream",
     "text": [
      "Training time (snapml):  10.05 seconds\n",
      "ROC AUC score (snapml): 0.7495\n"
     ]
    }
   ],
   "source": [
    "model = SnapSupportVectorMachine(n_jobs=16, class_weight=\"balanced\")\n",
    "t0 = time.time()\n",
    "model.fit(X_train, y_train)\n",
    "t_fit_snapml = time.time()-t0\n",
    "score_snapml = score(y_test, model.predict(X_test))\n",
    "print(\"Training time (snapml): %6.2f seconds\" % (t_fit_snapml))\n",
    "print(\"Accuracy score (snapml): %.4f\" % (score_snapml))"
   ]
  },
  {
   "cell_type": "code",
   "execution_count": 8,
   "metadata": {
    "execution": {
     "iopub.execute_input": "2021-03-01T18:45:31.500818Z",
     "iopub.status.busy": "2021-03-01T18:45:31.500312Z",
     "iopub.status.idle": "2021-03-01T18:45:31.502448Z",
     "shell.execute_reply": "2021-03-01T18:45:31.502963Z"
    }
   },
   "outputs": [
    {
     "name": "stdout",
     "output_type": "stream",
     "text": [
      "Speed-up:                9.6 x\n",
      "Relative diff. in score: 0.0042\n"
     ]
    }
   ],
   "source": [
    "speed_up = t_fit_sklearn/t_fit_snapml\n",
    "score_diff = (score_snapml-score_sklearn)/score_sklearn\n",
    "print(\"Speed-up:                %.1f x\" % (speed_up))\n",
    "print(\"Relative diff. in score: %.4f\" % (score_diff))"
   ]
  },
  {
   "cell_type": "markdown",
   "metadata": {},
   "source": [
    "## Disclaimer\n",
    "\n",
    "Performance results always depend on the hardware and software environment. \n",
    "\n",
    "Information regarding the environment that was used to run this notebook are provided below:"
   ]
  },
  {
   "cell_type": "code",
   "execution_count": 9,
   "metadata": {
    "execution": {
     "iopub.execute_input": "2021-03-01T18:45:31.506581Z",
     "iopub.status.busy": "2021-03-01T18:45:31.506068Z",
     "iopub.status.idle": "2021-03-01T18:45:31.523715Z",
     "shell.execute_reply": "2021-03-01T18:45:31.524055Z"
    }
   },
   "outputs": [
    {
     "name": "stdout",
     "output_type": "stream",
     "text": [
      "       platform: macOS-10.16-x86_64-i386-64bit\n",
      "      cpu_count: 8\n",
      "   cpu_freq_min: 2300\n",
      "   cpu_freq_max: 2300\n",
      "   total_memory: 32.0\n",
      " snapml_version: 1.7.0\n",
      "sklearn_version: 0.23.2\n"
     ]
    }
   ],
   "source": [
    "import utils\n",
    "environment = utils.get_environment()\n",
    "for k,v in environment.items():\n",
    "    print(\"%15s: %s\" % (k, v))"
   ]
  },
  {
   "cell_type": "markdown",
   "metadata": {},
   "source": [
    "## Record Statistics\n",
    "\n",
    "Finally, we record the enviroment and performance statistics for analysis outside of this standalone notebook."
   ]
  },
  {
   "cell_type": "code",
   "execution_count": 10,
   "metadata": {
    "execution": {
     "iopub.execute_input": "2021-03-01T18:45:31.530531Z",
     "iopub.status.busy": "2021-03-01T18:45:31.530017Z",
     "iopub.status.idle": "2021-03-01T18:45:32.092685Z",
     "shell.execute_reply": "2021-03-01T18:45:32.092270Z"
    }
   },
   "outputs": [
    {
     "data": {
      "application/scrapbook.scrap.json+json": {
       "data": {
        "cpu_count": 8,
        "cpu_freq_max": 2300,
        "cpu_freq_min": 2300,
        "dataset": "Avazu",
        "model": "LogisticRegression",
        "n_classes": 2,
        "n_examples_test": 1953951,
        "n_examples_train": 12642186,
        "n_features": 1000000,
        "platform": "macOS-10.16-x86_64-i386-64bit",
        "score": "roc_auc_score",
        "score_diff": 0.004158420107053805,
        "score_sklearn": 0.7464328626228348,
        "score_snapml": 0.7495368440473313,
        "sklearn_version": "0.23.2",
        "snapml_version": "1.7.0",
        "speed_up": 9.585105708298665,
        "t_fit_sklearn": 96.31861591339111,
        "t_fit_snapml": 10.048779726028442,
        "total_memory": 32
       },
       "encoder": "json",
       "name": "result",
       "version": 1
      }
     },
     "metadata": {
      "scrapbook": {
       "data": true,
       "display": false,
       "name": "result"
      }
     },
     "output_type": "display_data"
    }
   ],
   "source": [
    "import scrapbook as sb\n",
    "sb.glue(\"result\", {\n",
    "    'dataset': dataset.name,\n",
    "    'n_examples_train': X_train.shape[0],\n",
    "    'n_examples_test': X_test.shape[0],\n",
    "    'n_features': X_train.shape[1],\n",
    "    'n_classes': len(np.unique(y_train)),\n",
    "    'model': type(model).__name__,\n",
    "    'score': score.__name__,\n",
    "    't_fit_sklearn': t_fit_sklearn,\n",
    "    'score_sklearn': score_sklearn,\n",
    "    't_fit_snapml': t_fit_snapml,\n",
    "    'score_snapml': score_snapml,\n",
    "    'score_diff': score_diff,\n",
    "    'speed_up': speed_up,\n",
    "    **environment,\n",
    "})"
   ]
  }
 ],
 "metadata": {
  "kernelspec": {
   "display_name": "Python 3",
   "language": "python",
   "name": "python3"
  },
  "language_info": {
   "codemirror_mode": {
    "name": "ipython",
    "version": 3
   },
   "file_extension": ".py",
   "mimetype": "text/x-python",
   "name": "python",
   "nbconvert_exporter": "python",
   "pygments_lexer": "ipython3",
   "version": "3.8.0"
  }
 },
 "nbformat": 4,
 "nbformat_minor": 4
}
