{
 "cells": [
  {
   "cell_type": "markdown",
   "metadata": {},
   "source": [
    "```\n",
    "Copyright 2021 IBM Corporation\n",
    "\n",
    "Licensed under the Apache License, Version 2.0 (the \"License\");\n",
    "you may not use this file except in compliance with the License.\n",
    "You may obtain a copy of the License at\n",
    "\n",
    "     http://www.apache.org/licenses/LICENSE-2.0\n",
    "\n",
    "Unless required by applicable law or agreed to in writing, software\n",
    "distributed under the License is distributed on an \"AS IS\" BASIS,\n",
    "WITHOUT WARRANTIES OR CONDITIONS OF ANY KIND, either express or implied.\n",
    "See the License for the specific language governing permissions and\n",
    "limitations under the License.\n",
    "```"
   ]
  },
  {
   "cell_type": "markdown",
   "metadata": {},
   "source": [
    "# Random Forest on SUSY Dataset\n",
    "\n",
    "## Background \n",
    "\n",
    "This is a classification problem to distinguish between a signal process which produces supersymmetric particles and a background process which does not.\n",
    "\n",
    "## Source\n",
    "\n",
    "Daniel Whiteson daniel '@' uci.edu, Assistant Professor, Physics & Astronomy, Univ. of California Irvine.\n",
    "\n",
    "In this example, we download the dataset from the [UCI Machine Learning Repository](https://archive.ics.uci.edu/ml/datasets.php).\n",
    "\n",
    "## Goal\n",
    "The goal of this notebook is to illustrate how Snap ML can accelerate training of a random forest model on this dataset.\n",
    "\n",
    "## Code"
   ]
  },
  {
   "cell_type": "code",
   "execution_count": 1,
   "metadata": {
    "execution": {
     "iopub.execute_input": "2022-01-12T17:39:52.535008Z",
     "iopub.status.busy": "2022-01-12T17:39:52.534660Z",
     "iopub.status.idle": "2022-01-12T17:39:52.556556Z",
     "shell.execute_reply": "2022-01-12T17:39:52.556220Z"
    }
   },
   "outputs": [
    {
     "name": "stdout",
     "output_type": "stream",
     "text": [
      "/localhome/tpa/snapml-examples/examples\n"
     ]
    }
   ],
   "source": [
    "cd ../../"
   ]
  },
  {
   "cell_type": "code",
   "execution_count": 2,
   "metadata": {
    "execution": {
     "iopub.execute_input": "2022-01-12T17:39:52.559128Z",
     "iopub.status.busy": "2022-01-12T17:39:52.558802Z",
     "iopub.status.idle": "2022-01-12T17:39:52.560356Z",
     "shell.execute_reply": "2022-01-12T17:39:52.560075Z"
    }
   },
   "outputs": [],
   "source": [
    "CACHE_DIR='cache-dir'"
   ]
  },
  {
   "cell_type": "code",
   "execution_count": 3,
   "metadata": {
    "execution": {
     "iopub.execute_input": "2022-01-12T17:39:52.562998Z",
     "iopub.status.busy": "2022-01-12T17:39:52.562661Z",
     "iopub.status.idle": "2022-01-12T17:39:53.170098Z",
     "shell.execute_reply": "2022-01-12T17:39:53.169786Z"
    }
   },
   "outputs": [],
   "source": [
    "import numpy as np\n",
    "import time\n",
    "from datasets import Susy\n",
    "from sklearn.ensemble import RandomForestClassifier\n",
    "from snapml import RandomForestClassifier as SnapRandomForestClassifier\n",
    "from sklearn.metrics import roc_auc_score as score"
   ]
  },
  {
   "cell_type": "code",
   "execution_count": 4,
   "metadata": {
    "execution": {
     "iopub.execute_input": "2022-01-12T17:39:53.173110Z",
     "iopub.status.busy": "2022-01-12T17:39:53.172771Z",
     "iopub.status.idle": "2022-01-12T17:39:53.432553Z",
     "shell.execute_reply": "2022-01-12T17:39:53.432182Z"
    }
   },
   "outputs": [
    {
     "name": "stdout",
     "output_type": "stream",
     "text": [
      "Reading binary Susy dataset (cache) from disk.\n"
     ]
    }
   ],
   "source": [
    "dataset = Susy(cache_dir=CACHE_DIR)\n",
    "X_train, X_test, y_train, y_test = dataset.get_train_test_split()"
   ]
  },
  {
   "cell_type": "code",
   "execution_count": 5,
   "metadata": {
    "execution": {
     "iopub.execute_input": "2022-01-12T17:39:53.435650Z",
     "iopub.status.busy": "2022-01-12T17:39:53.435309Z",
     "iopub.status.idle": "2022-01-12T17:39:53.524756Z",
     "shell.execute_reply": "2022-01-12T17:39:53.525044Z"
    }
   },
   "outputs": [
    {
     "name": "stdout",
     "output_type": "stream",
     "text": [
      "Number of examples: 3750000\n",
      "Number of features: 18\n",
      "Number of classes:  2\n"
     ]
    }
   ],
   "source": [
    "print(\"Number of examples: %d\" % (X_train.shape[0]))\n",
    "print(\"Number of features: %d\" % (X_train.shape[1]))\n",
    "print(\"Number of classes:  %d\" % (len(np.unique(y_train))))"
   ]
  },
  {
   "cell_type": "code",
   "execution_count": 6,
   "metadata": {
    "execution": {
     "iopub.execute_input": "2022-01-12T17:39:53.528511Z",
     "iopub.status.busy": "2022-01-12T17:39:53.528172Z",
     "iopub.status.idle": "2022-01-12T17:39:53.616727Z",
     "shell.execute_reply": "2022-01-12T17:39:53.617014Z"
    }
   },
   "outputs": [
    {
     "name": "stdout",
     "output_type": "stream",
     "text": [
      " 54.25 % of the training transactions belong to class 0\n",
      " 45.75 % of the training transactions belong to class 1\n"
     ]
    }
   ],
   "source": [
    "labels, sizes = np.unique(y_train, return_counts=True)\n",
    "print(\"%6.2f %% of the training transactions belong to class 0\" % (sizes[0]*100.0/(sizes[0]+sizes[1])))\n",
    "print(\"%6.2f %% of the training transactions belong to class 1\" % (sizes[1]*100.0/(sizes[0]+sizes[1])))"
   ]
  },
  {
   "cell_type": "code",
   "execution_count": 7,
   "metadata": {
    "execution": {
     "iopub.execute_input": "2022-01-12T17:39:53.620598Z",
     "iopub.status.busy": "2022-01-12T17:39:53.618464Z",
     "iopub.status.idle": "2022-01-12T17:45:54.478770Z",
     "shell.execute_reply": "2022-01-12T17:45:54.479062Z"
    }
   },
   "outputs": [
    {
     "name": "stdout",
     "output_type": "stream",
     "text": [
      "Training time (sklearn): 358.15 seconds\n",
      "ROC AUC score (sklearn): 0.8628\n"
     ]
    }
   ],
   "source": [
    "model = RandomForestClassifier(max_depth=8, n_estimators=100, n_jobs=4, random_state=42)\n",
    "t0 = time.time()\n",
    "model.fit(X_train, y_train)\n",
    "t_fit_sklearn = time.time()-t0\n",
    "score_sklearn = score(y_test, model.predict_proba(X_test)[:,1])\n",
    "print(\"Training time (sklearn): %6.2f seconds\" % (t_fit_sklearn))\n",
    "print(\"ROC AUC score (sklearn): %.4f\" % (score_sklearn))"
   ]
  },
  {
   "cell_type": "code",
   "execution_count": 8,
   "metadata": {
    "execution": {
     "iopub.execute_input": "2022-01-12T17:45:54.486388Z",
     "iopub.status.busy": "2022-01-12T17:45:54.486029Z",
     "iopub.status.idle": "2022-01-12T17:46:36.514836Z",
     "shell.execute_reply": "2022-01-12T17:46:36.514503Z"
    }
   },
   "outputs": [
    {
     "name": "stdout",
     "output_type": "stream",
     "text": [
      "Training time (snapml):  40.03 seconds\n",
      "ROC AUC score (snapml): 0.8629\n"
     ]
    }
   ],
   "source": [
    "model = SnapRandomForestClassifier(max_depth=8, n_estimators=100, n_jobs=4, random_state=42, use_histograms=True)\n",
    "t0 = time.time()\n",
    "model.fit(X_train, y_train)\n",
    "t_fit_snapml = time.time()-t0\n",
    "score_snapml = score(y_test, model.predict_proba(X_test)[:,1])\n",
    "print(\"Training time (snapml): %6.2f seconds\" % (t_fit_snapml))\n",
    "print(\"ROC AUC score (snapml): %.4f\" % (score_snapml))"
   ]
  },
  {
   "cell_type": "code",
   "execution_count": 9,
   "metadata": {
    "execution": {
     "iopub.execute_input": "2022-01-12T17:46:36.518780Z",
     "iopub.status.busy": "2022-01-12T17:46:36.518435Z",
     "iopub.status.idle": "2022-01-12T17:46:36.520129Z",
     "shell.execute_reply": "2022-01-12T17:46:36.520409Z"
    }
   },
   "outputs": [
    {
     "name": "stdout",
     "output_type": "stream",
     "text": [
      "Speed-up:                8.9 x\n",
      "Relative diff. in score: 0.0001\n"
     ]
    }
   ],
   "source": [
    "speed_up = t_fit_sklearn/t_fit_snapml\n",
    "score_diff = (score_snapml-score_sklearn)/score_sklearn\n",
    "print(\"Speed-up:                %.1f x\" % (speed_up))\n",
    "print(\"Relative diff. in score: %.4f\" % (score_diff))"
   ]
  },
  {
   "cell_type": "markdown",
   "metadata": {},
   "source": [
    "## Disclaimer\n",
    "\n",
    "Performance results always depend on the hardware and software environment. \n",
    "\n",
    "Information regarding the environment that was used to run this notebook are provided below:"
   ]
  },
  {
   "cell_type": "code",
   "execution_count": 10,
   "metadata": {
    "execution": {
     "iopub.execute_input": "2022-01-12T17:46:36.523414Z",
     "iopub.status.busy": "2022-01-12T17:46:36.523069Z",
     "iopub.status.idle": "2022-01-12T17:46:37.331801Z",
     "shell.execute_reply": "2022-01-12T17:46:37.331488Z"
    }
   },
   "outputs": [
    {
     "name": "stdout",
     "output_type": "stream",
     "text": [
      "       platform: Linux-4.15.0-151-generic-x86_64-with-glibc2.10\n",
      "      cpu_count: 40\n",
      "   cpu_freq_min: 800.0\n",
      "   cpu_freq_max: 2101.0\n",
      "   total_memory: 250.58893203735352\n",
      " snapml_version: 1.8.3\n",
      "sklearn_version: 1.0.1\n",
      "xgboost_version: 1.3.3\n",
      "lightgbm_version: 3.1.1\n"
     ]
    }
   ],
   "source": [
    "import utils\n",
    "environment = utils.get_environment()\n",
    "for k,v in environment.items():\n",
    "    print(\"%15s: %s\" % (k, v))"
   ]
  },
  {
   "cell_type": "markdown",
   "metadata": {},
   "source": [
    "## Record Statistics\n",
    "\n",
    "Finally, we record the enviroment and performance statistics for analysis outside of this standalone notebook."
   ]
  },
  {
   "cell_type": "code",
   "execution_count": 11,
   "metadata": {
    "execution": {
     "iopub.execute_input": "2022-01-12T17:46:37.335826Z",
     "iopub.status.busy": "2022-01-12T17:46:37.335472Z",
     "iopub.status.idle": "2022-01-12T17:46:37.502637Z",
     "shell.execute_reply": "2022-01-12T17:46:37.502314Z"
    }
   },
   "outputs": [
    {
     "name": "stderr",
     "output_type": "stream",
     "text": [
      "/localhome/tpa/anaconda3/envs/snapenv/lib/python3.8/site-packages/papermill/iorw.py:50: FutureWarning: pyarrow.HadoopFileSystem is deprecated as of 2.0.0, please use pyarrow.fs.HadoopFileSystem instead.\n",
      "  from pyarrow import HadoopFileSystem\n"
     ]
    },
    {
     "data": {
      "application/scrapbook.scrap.json+json": {
       "data": {
        "cpu_count": 40,
        "cpu_freq_max": 2101.0,
        "cpu_freq_min": 800.0,
        "dataset": "Susy",
        "lightgbm_version": "3.1.1",
        "model": "RandomForestClassifier",
        "n_classes": 2,
        "n_examples_test": 1250000,
        "n_examples_train": 3750000,
        "n_features": 18,
        "platform": "Linux-4.15.0-151-generic-x86_64-with-glibc2.10",
        "score": "roc_auc_score",
        "score_diff": 0.0001279313566007275,
        "score_sklearn": 0.8628286239041221,
        "score_snapml": 0.8629390067404921,
        "sklearn_version": "1.0.1",
        "snapml_version": "1.8.3",
        "speed_up": 8.947211452006107,
        "t_fit_sklearn": 358.14689087867737,
        "t_fit_snapml": 40.028884172439575,
        "total_memory": 250.58893203735352,
        "xgboost_version": "1.3.3"
       },
       "encoder": "json",
       "name": "result",
       "version": 1
      }
     },
     "metadata": {
      "scrapbook": {
       "data": true,
       "display": false,
       "name": "result"
      }
     },
     "output_type": "display_data"
    }
   ],
   "source": [
    "import scrapbook as sb\n",
    "sb.glue(\"result\", {\n",
    "    'dataset': dataset.name,\n",
    "    'n_examples_train': X_train.shape[0],\n",
    "    'n_examples_test': X_test.shape[0],\n",
    "    'n_features': X_train.shape[1],\n",
    "    'n_classes': len(np.unique(y_train)),\n",
    "    'model': type(model).__name__,\n",
    "    'score': score.__name__,\n",
    "    't_fit_sklearn': t_fit_sklearn,\n",
    "    'score_sklearn': score_sklearn,\n",
    "    't_fit_snapml': t_fit_snapml,\n",
    "    'score_snapml': score_snapml,\n",
    "    'score_diff': score_diff,\n",
    "    'speed_up': speed_up,\n",
    "    **environment,\n",
    "})"
   ]
  }
 ],
 "metadata": {
  "kernelspec": {
   "display_name": "Python 3",
   "language": "python",
   "name": "python3"
  },
  "language_info": {
   "codemirror_mode": {
    "name": "ipython",
    "version": 3
   },
   "file_extension": ".py",
   "mimetype": "text/x-python",
   "name": "python",
   "nbconvert_exporter": "python",
   "pygments_lexer": "ipython3",
   "version": "3.8.0"
  }
 },
 "nbformat": 4,
 "nbformat_minor": 4
}
