{
 "cells": [
  {
   "cell_type": "markdown",
   "metadata": {},
   "source": [
    "```\n",
    "Copyright 2021 IBM Corporation\n",
    "\n",
    "Licensed under the Apache License, Version 2.0 (the \"License\");\n",
    "you may not use this file except in compliance with the License.\n",
    "You may obtain a copy of the License at\n",
    "\n",
    "     http://www.apache.org/licenses/LICENSE-2.0\n",
    "\n",
    "Unless required by applicable law or agreed to in writing, software\n",
    "distributed under the License is distributed on an \"AS IS\" BASIS,\n",
    "WITHOUT WARRANTIES OR CONDITIONS OF ANY KIND, either express or implied.\n",
    "See the License for the specific language governing permissions and\n",
    "limitations under the License.\n",
    "```"
   ]
  },
  {
   "cell_type": "markdown",
   "metadata": {},
   "source": [
    "# Support Vector Machine on SUSY Dataset\n",
    "\n",
    "## Background \n",
    "\n",
    "This is a classification problem to distinguish between a signal process which produces supersymmetric particles and a background process which does not.\n",
    "\n",
    "## Source\n",
    "\n",
    "Daniel Whiteson daniel '@' uci.edu, Assistant Professor, Physics & Astronomy, Univ. of California Irvine.\n",
    "\n",
    "In this example, we download the dataset from the [UCI Machine Learning Repository](https://archive.ics.uci.edu/ml/datasets.php).\n",
    "\n",
    "## Goal\n",
    "The goal of this notebook is to illustrate how Snap ML can accelerate training of a support vector machine model on this dataset.\n",
    "\n",
    "## Code"
   ]
  },
  {
   "cell_type": "code",
   "execution_count": 1,
   "metadata": {
    "execution": {
     "iopub.execute_input": "2021-03-01T18:41:47.624289Z",
     "iopub.status.busy": "2021-03-01T18:41:47.623074Z",
     "iopub.status.idle": "2021-03-01T18:41:47.630882Z",
     "shell.execute_reply": "2021-03-01T18:41:47.631866Z"
    }
   },
   "outputs": [
    {
     "name": "stdout",
     "output_type": "stream",
     "text": [
      "/home/aan/snapml-examples-2/snapml-examples/examples\n"
     ]
    }
   ],
   "source": [
    "cd ../../"
   ]
  },
  {
   "cell_type": "code",
   "execution_count": 2,
   "metadata": {
    "execution": {
     "iopub.execute_input": "2021-03-01T18:41:47.637476Z",
     "iopub.status.busy": "2021-03-01T18:41:47.636547Z",
     "iopub.status.idle": "2021-03-01T18:41:47.638989Z",
     "shell.execute_reply": "2021-03-01T18:41:47.639682Z"
    }
   },
   "outputs": [],
   "source": [
    "CACHE_DIR='cache-dir'"
   ]
  },
  {
   "cell_type": "code",
   "execution_count": 3,
   "metadata": {
    "execution": {
     "iopub.execute_input": "2021-03-01T18:41:47.644878Z",
     "iopub.status.busy": "2021-03-01T18:41:47.644123Z",
     "iopub.status.idle": "2021-03-01T18:41:50.150756Z",
     "shell.execute_reply": "2021-03-01T18:41:50.151221Z"
    }
   },
   "outputs": [],
   "source": [
    "import numpy as np\n",
    "import time\n",
    "from datasets import Susy\n",
    "from sklearn.svm import LinearSVC\n",
    "from snapml import SupportVectorMachine as SnapSupportVectorMachine\n",
    "from sklearn.metrics import accuracy_score as score"
   ]
  },
  {
   "cell_type": "code",
   "execution_count": 4,
   "metadata": {
    "execution": {
     "iopub.execute_input": "2021-03-01T18:41:50.155800Z",
     "iopub.status.busy": "2021-03-01T18:41:50.155146Z",
     "iopub.status.idle": "2021-03-01T18:41:50.499188Z",
     "shell.execute_reply": "2021-03-01T18:41:50.499565Z"
    }
   },
   "outputs": [
    {
     "name": "stdout",
     "output_type": "stream",
     "text": [
      "Reading binary Susy dataset (cache) from disk.\n"
     ]
    }
   ],
   "source": [
    "dataset = Susy(cache_dir=CACHE_DIR)\n",
    "X_train, X_test, y_train, y_test = dataset.get_train_test_split()"
   ]
  },
  {
   "cell_type": "code",
   "execution_count": 5,
   "metadata": {
    "execution": {
     "iopub.execute_input": "2021-03-01T18:41:50.503412Z",
     "iopub.status.busy": "2021-03-01T18:41:50.502860Z",
     "iopub.status.idle": "2021-03-01T18:41:50.632471Z",
     "shell.execute_reply": "2021-03-01T18:41:50.632804Z"
    }
   },
   "outputs": [
    {
     "name": "stdout",
     "output_type": "stream",
     "text": [
      "Number of examples: 3750000\n",
      "Number of features: 18\n",
      "Number of classes:  2\n"
     ]
    }
   ],
   "source": [
    "print(\"Number of examples: %d\" % (X_train.shape[0]))\n",
    "print(\"Number of features: %d\" % (X_train.shape[1]))\n",
    "print(\"Number of classes:  %d\" % (len(np.unique(y_train))))"
   ]
  },
  {
   "cell_type": "code",
   "execution_count": 6,
   "metadata": {
    "execution": {
     "iopub.execute_input": "2021-03-01T18:41:50.637129Z",
     "iopub.status.busy": "2021-03-01T18:41:50.636576Z",
     "iopub.status.idle": "2021-03-01T18:43:35.271994Z",
     "shell.execute_reply": "2021-03-01T18:43:35.272506Z"
    }
   },
   "outputs": [
    {
     "name": "stderr",
     "output_type": "stream",
     "text": [
      "/home/aan/anaconda3/lib/python3.7/site-packages/sklearn/svm/_base.py:986: ConvergenceWarning: Liblinear failed to converge, increase the number of iterations.\n",
      "  \"the number of iterations.\", ConvergenceWarning)\n"
     ]
    },
    {
     "name": "stdout",
     "output_type": "stream",
     "text": [
      "Training time (sklearn):   7.73 seconds\n",
      "Accuracy score (sklearn): 0.7872\n"
     ]
    }
   ],
   "source": [
    "model = LinearSVC(loss=\"hinge\", fit_intercept=False, random_state=42)\n",
    "t0 = time.time()\n",
    "model.fit(X_train, y_train)\n",
    "t_fit_sklearn = time.time()-t0\n",
    "score_sklearn = score(y_test, model.predict(X_test))\n",
    "print(\"Training time (sklearn): %6.2f seconds\" % (t_fit_sklearn))\n",
    "print(\"Accuracy score (sklearn): %.4f\" % (score_sklearn))"
   ]
  },
  {
   "cell_type": "code",
   "execution_count": 8,
   "metadata": {
    "execution": {
     "iopub.execute_input": "2021-03-01T18:43:35.279471Z",
     "iopub.status.busy": "2021-03-01T18:43:35.278820Z",
     "iopub.status.idle": "2021-03-01T18:43:37.008392Z",
     "shell.execute_reply": "2021-03-01T18:43:37.008799Z"
    }
   },
   "outputs": [
    {
     "name": "stdout",
     "output_type": "stream",
     "text": [
      "Training time (snapml):   3.02 seconds\n",
      "Accuracy score (snapml): 0.7872\n"
     ]
    }
   ],
   "source": [
    "model = SnapSupportVectorMachine(n_jobs=4, fit_intercept=False, random_state=42)\n",
    "t0 = time.time()\n",
    "model.fit(X_train, y_train)\n",
    "t_fit_snapml = time.time()-t0\n",
    "score_snapml = score(y_test, model.predict(X_test))\n",
    "print(\"Training time (snapml): %6.2f seconds\" % (t_fit_snapml))\n",
    "print(\"Accuracy score (snapml): %.4f\" % (score_snapml))"
   ]
  },
  {
   "cell_type": "code",
   "execution_count": 9,
   "metadata": {
    "execution": {
     "iopub.execute_input": "2021-03-01T18:43:37.012926Z",
     "iopub.status.busy": "2021-03-01T18:43:37.012424Z",
     "iopub.status.idle": "2021-03-01T18:43:37.014286Z",
     "shell.execute_reply": "2021-03-01T18:43:37.014759Z"
    }
   },
   "outputs": [
    {
     "name": "stdout",
     "output_type": "stream",
     "text": [
      "Speed-up:                2.6 x\n",
      "Relative diff. in score: -0.0000\n"
     ]
    }
   ],
   "source": [
    "speed_up = t_fit_sklearn/t_fit_snapml\n",
    "score_diff = (score_snapml-score_sklearn)/score_sklearn\n",
    "print(\"Speed-up:                %.1f x\" % (speed_up))\n",
    "print(\"Relative diff. in score: %.4f\" % (score_diff))"
   ]
  },
  {
   "cell_type": "markdown",
   "metadata": {},
   "source": [
    "## Disclaimer\n",
    "\n",
    "Performance results always depend on the hardware and software environment. \n",
    "\n",
    "Information regarding the environment that was used to run this notebook are provided below:"
   ]
  },
  {
   "cell_type": "code",
   "execution_count": 10,
   "metadata": {
    "execution": {
     "iopub.execute_input": "2021-03-01T18:43:37.018144Z",
     "iopub.status.busy": "2021-03-01T18:43:37.017677Z",
     "iopub.status.idle": "2021-03-01T18:43:37.034680Z",
     "shell.execute_reply": "2021-03-01T18:43:37.035022Z"
    }
   },
   "outputs": [
    {
     "name": "stdout",
     "output_type": "stream",
     "text": [
      "       platform: Linux-4.15.0-140-generic-x86_64-with-debian-buster-sid\n",
      "      cpu_count: 16\n",
      "   cpu_freq_min: 1200.0\n",
      "   cpu_freq_max: 3200.0\n",
      "   total_memory: 62.82522201538086\n",
      " snapml_version: 1.7.1\n",
      "sklearn_version: 0.24.1\n"
     ]
    }
   ],
   "source": [
    "import utils\n",
    "environment = utils.get_environment()\n",
    "for k,v in environment.items():\n",
    "    print(\"%15s: %s\" % (k, v))"
   ]
  },
  {
   "cell_type": "markdown",
   "metadata": {},
   "source": [
    "# Record Statistics\n",
    "\n",
    "Finally, we record the enviroment and performance statistics for analysis outside of this standalone notebook."
   ]
  },
  {
   "cell_type": "code",
   "execution_count": 12,
   "metadata": {
    "execution": {
     "iopub.execute_input": "2021-03-01T18:43:37.039710Z",
     "iopub.status.busy": "2021-03-01T18:43:37.039209Z",
     "iopub.status.idle": "2021-03-01T18:43:37.318546Z",
     "shell.execute_reply": "2021-03-01T18:43:37.318013Z"
    }
   },
   "outputs": [
    {
     "data": {
      "application/scrapbook.scrap.json+json": {
       "data": {
        "cpu_count": 16,
        "cpu_freq_max": 3200,
        "cpu_freq_min": 1200,
        "dataset": "Susy",
        "model": "SupportVectorMachine",
        "n_classes": 2,
        "n_examples_test": 1250000,
        "n_examples_train": 3750000,
        "n_features": 18,
        "platform": "Linux-4.15.0-140-generic-x86_64-with-debian-buster-sid",
        "score": "accuracy_score",
        "score_diff": -2.33743875656058e-05,
        "score_sklearn": 0.7871864,
        "score_snapml": 0.787168,
        "sklearn_version": "0.24.1",
        "snapml_version": "1.7.1",
        "speed_up": 2.5612491721867388,
        "t_fit_sklearn": 7.727047443389893,
        "t_fit_snapml": 3.0169057846069336,
        "total_memory": 62.82522201538086
       },
       "encoder": "json",
       "name": "result",
       "version": 1
      }
     },
     "metadata": {
      "scrapbook": {
       "data": true,
       "display": false,
       "name": "result"
      }
     },
     "output_type": "display_data"
    }
   ],
   "source": [
    "import scrapbook as sb\n",
    "sb.glue(\"result\", {\n",
    "    'dataset': dataset.name,\n",
    "    'n_examples_train': X_train.shape[0],\n",
    "    'n_examples_test': X_test.shape[0],\n",
    "    'n_features': X_train.shape[1],\n",
    "    'n_classes': len(np.unique(y_train)),\n",
    "    'model': type(model).__name__,\n",
    "    'score': score.__name__,\n",
    "    't_fit_sklearn': t_fit_sklearn,\n",
    "    'score_sklearn': score_sklearn,\n",
    "    't_fit_snapml': t_fit_snapml,\n",
    "    'score_snapml': score_snapml,\n",
    "    'score_diff': score_diff,\n",
    "    'speed_up': speed_up,\n",
    "    **environment,\n",
    "})"
   ]
  }
 ],
 "metadata": {
  "kernelspec": {
   "display_name": "Python 3",
   "language": "python",
   "name": "python3"
  },
  "language_info": {
   "codemirror_mode": {
    "name": "ipython",
    "version": 3
   },
   "file_extension": ".py",
   "mimetype": "text/x-python",
   "name": "python",
   "nbconvert_exporter": "python",
   "pygments_lexer": "ipython3",
   "version": "3.7.10"
  }
 },
 "nbformat": 4,
 "nbformat_minor": 4
}
