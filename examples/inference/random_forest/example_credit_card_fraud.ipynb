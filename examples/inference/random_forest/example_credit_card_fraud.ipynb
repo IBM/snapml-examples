{
 "cells": [
  {
   "cell_type": "markdown",
   "metadata": {},
   "source": [
    "```\n",
    "Copyright 2022 IBM Corporation\n",
    "\n",
    "Licensed under the Apache License, Version 2.0 (the \"License\");\n",
    "you may not use this file except in compliance with the License.\n",
    "You may obtain a copy of the License at\n",
    "\n",
    "     http://www.apache.org/licenses/LICENSE-2.0\n",
    "\n",
    "Unless required by applicable law or agreed to in writing, software\n",
    "distributed under the License is distributed on an \"AS IS\" BASIS,\n",
    "WITHOUT WARRANTIES OR CONDITIONS OF ANY KIND, either express or implied.\n",
    "See the License for the specific language governing permissions and\n",
    "limitations under the License.\n",
    "```"
   ]
  },
  {
   "cell_type": "markdown",
   "metadata": {},
   "source": [
    "# Random Forest on Credit Card Fraud Dataset\n",
    "\n",
    "## Background \n",
    "\n",
    "The goal of this competition is to predict if a credit card transaction is fraudulent or genuine based on a set of anonymized features.\n",
    "\n",
    "## Source\n",
    "\n",
    "The raw dataset can be obtained directly from [Kaggle: Credit Card Fraud Detection](https://www.kaggle.com/mlg-ulb/creditcardfraud).\n",
    "\n",
    "In this example, we download the dataset directly from Kaggle using their API. In order for it to work, you must: login into Kaggle and folow [these instructions](https://www.kaggle.com/docs/api) to install your API token on your machine.\n",
    "\n",
    "## Goal\n",
    "\n",
    "The goals of this notebook are to illustrate how to use Snap ML to: 1) import a scikit-learn random forest trained on this dataset into Snap ML, and 2) run inference on the Z AI accelerator using the Snap ML prediction engine.\n",
    "\n",
    "## Code"
   ]
  },
  {
   "cell_type": "code",
   "execution_count": 3,
   "metadata": {
    "execution": {
     "iopub.execute_input": "2022-04-04T14:47:12.285293Z",
     "iopub.status.busy": "2022-04-04T14:47:12.284921Z",
     "iopub.status.idle": "2022-04-04T14:47:12.289490Z",
     "shell.execute_reply": "2022-04-04T14:47:12.289112Z"
    }
   },
   "outputs": [
    {
     "name": "stdout",
     "output_type": "stream",
     "text": [
      "/root/snapml-examples/examples\n"
     ]
    }
   ],
   "source": [
    "cd ../../"
   ]
  },
  {
   "cell_type": "code",
   "execution_count": 4,
   "metadata": {
    "execution": {
     "iopub.execute_input": "2022-04-04T14:47:12.291870Z",
     "iopub.status.busy": "2022-04-04T14:47:12.291527Z",
     "iopub.status.idle": "2022-04-04T14:47:12.292514Z",
     "shell.execute_reply": "2022-04-04T14:47:12.292801Z"
    }
   },
   "outputs": [],
   "source": [
    "CACHE_DIR='cache-dir'"
   ]
  },
  {
   "cell_type": "code",
   "execution_count": 43,
   "metadata": {
    "execution": {
     "iopub.execute_input": "2022-04-04T14:47:12.295411Z",
     "iopub.status.busy": "2022-04-04T14:47:12.295051Z",
     "iopub.status.idle": "2022-04-04T14:47:12.963739Z",
     "shell.execute_reply": "2022-04-04T14:47:12.964031Z"
    }
   },
   "outputs": [],
   "source": [
    "import numpy as np\n",
    "import time\n",
    "from datasets import CreditCardFraud\n",
    "from sklearn.ensemble import RandomForestClassifier\n",
    "from snapml import RandomForestClassifier as SnapRandomForestClassifier\n",
    "from sklearn.metrics import accuracy_score as score\n",
    "from sklearn2pmml import sklearn2pmml\n",
    "from sklearn2pmml import PMMLPipeline"
   ]
  },
  {
   "cell_type": "code",
   "execution_count": 33,
   "metadata": {
    "execution": {
     "iopub.execute_input": "2022-04-04T14:47:12.967787Z",
     "iopub.status.busy": "2022-04-04T14:47:12.967420Z",
     "iopub.status.idle": "2022-04-04T14:47:12.994671Z",
     "shell.execute_reply": "2022-04-04T14:47:12.994955Z"
    }
   },
   "outputs": [
    {
     "name": "stdout",
     "output_type": "stream",
     "text": [
      "Reading binary CreditCardFraud dataset (cache) from disk.\n"
     ]
    }
   ],
   "source": [
    "dataset = CreditCardFraud(cache_dir=CACHE_DIR)\n",
    "X_train, X_test, y_train, y_test = dataset.get_train_test_split()"
   ]
  },
  {
   "cell_type": "code",
   "execution_count": 34,
   "metadata": {
    "execution": {
     "iopub.execute_input": "2022-04-04T14:47:12.998107Z",
     "iopub.status.busy": "2022-04-04T14:47:12.997755Z",
     "iopub.status.idle": "2022-04-04T14:47:13.003876Z",
     "shell.execute_reply": "2022-04-04T14:47:13.004181Z"
    }
   },
   "outputs": [
    {
     "name": "stdout",
     "output_type": "stream",
     "text": [
      "Number of examples: 213605\n",
      "Number of features: 28\n",
      "Number of classes:  2\n"
     ]
    }
   ],
   "source": [
    "print(\"Number of examples: %d\" % (X_train.shape[0]))\n",
    "print(\"Number of features: %d\" % (X_train.shape[1]))\n",
    "print(\"Number of classes:  %d\" % (len(np.unique(y_train))))"
   ]
  },
  {
   "cell_type": "code",
   "execution_count": 53,
   "metadata": {
    "execution": {
     "iopub.execute_input": "2022-04-04T14:47:13.050484Z",
     "iopub.status.busy": "2022-04-04T14:47:13.048445Z",
     "iopub.status.idle": "2022-04-04T14:47:27.369502Z",
     "shell.execute_reply": "2022-04-04T14:47:27.369797Z"
    }
   },
   "outputs": [
    {
     "name": "stdout",
     "output_type": "stream",
     "text": [
      "Inference time (sklearn):   9.65 milliseconds\n",
      "Accuracy score (sklearn): 1.0000\n"
     ]
    }
   ],
   "source": [
    "# Create a scikit-learn Random Forest Classifier model\n",
    "model = RandomForestClassifier(n_estimators = 100, max_depth=4, n_jobs=4, random_state=42)\n",
    "\n",
    "# Train a PMML pipeline that uses the scikit-learn model defined above\n",
    "pipeline = PMMLPipeline([(\"model\", model)]).fit(X_train, y_train)\n",
    "\n",
    "# Save the trained PMML pipeline to a file, e.g., \"model.pmml\"\n",
    "sklearn2pmml(pipeline, \"model.pmml\", with_repr=True)\n",
    "\n",
    "# Create a batch of rows to be scored using the PMML pipeline\n",
    "test_data_size = 128\n",
    "np.random.seed(10)\n",
    "test_data_indices = np.random.choice(X_test.shape[0], test_data_size)\n",
    "\n",
    "# Evaluate the accuracy of the scikit-learn-based pipeline on the test dataset\n",
    "t0 = time.time()\n",
    "score_sklearn = score(y_test[test_data_indices], pipeline.predict(X_test[test_data_indices]))\n",
    "t_predict_sklearn = time.time() - t0\n",
    "\n",
    "print(\"Inference time (sklearn): %6.2f milliseconds\" % (1000*t_predict_sklearn))\n",
    "print(\"Accuracy score (sklearn): %.4f\" % (score_sklearn))"
   ]
  },
  {
   "cell_type": "code",
   "execution_count": 54,
   "metadata": {
    "execution": {
     "iopub.execute_input": "2022-04-04T14:47:27.375081Z",
     "iopub.status.busy": "2022-04-04T14:47:27.374715Z",
     "iopub.status.idle": "2022-04-04T14:47:29.066228Z",
     "shell.execute_reply": "2022-04-04T14:47:29.066521Z"
    }
   },
   "outputs": [
    {
     "name": "stdout",
     "output_type": "stream",
     "text": [
      "Inference time (snapml):   0.99 milliseconds\n",
      "Accuracy score (snapml): 1.0000\n"
     ]
    }
   ],
   "source": [
    "# Create a Snap ML Random Forest Classifier model\n",
    "snapml_model = SnapRandomForestClassifier()\n",
    "\n",
    "# Import the scikit-learn model into Snap ML\n",
    "# To indicate that the Snap ML predict engine should run on the Z AI accelerator use the \"zdnn_tensors\" tree format\n",
    "snapml_model.import_model(\"model.pmml\", \"pmml\", tree_format = \"zdnn_tensors\")\n",
    "\n",
    "# Set the number of CPU threads used at inference time\n",
    "snapml_model.set_params(n_jobs=4)\n",
    "\n",
    "# The current implementation can run inference on test data sets with less than 32768 rows\n",
    "test_data_size = 128 \n",
    "np.random.seed(10)\n",
    "test_data_indices = np.random.choice(X_test.shape[0], test_data_size)\n",
    "\n",
    "# Evaluate the accuracy of the scikit-learn imported into Snap ML\n",
    "t0 = time.time()\n",
    "score_snapml = score(y_test[test_data_indices], snapml_model.predict(X_test[test_data_indices]))\n",
    "t_predict_snapml = time.time() - t0\n",
    "\n",
    "print(\"Inference time (snapml): %6.2f milliseconds\" % (1000*t_predict_snapml))\n",
    "print(\"Accuracy score (snapml): %.4f\" % (score_snapml))"
   ]
  },
  {
   "cell_type": "code",
   "execution_count": 57,
   "metadata": {
    "execution": {
     "iopub.execute_input": "2022-04-04T14:47:29.070056Z",
     "iopub.status.busy": "2022-04-04T14:47:29.069701Z",
     "iopub.status.idle": "2022-04-04T14:47:29.071730Z",
     "shell.execute_reply": "2022-04-04T14:47:29.071428Z"
    }
   },
   "outputs": [
    {
     "name": "stdout",
     "output_type": "stream",
     "text": [
      "Snap ML vs Scikit-Learn Speed-up: 9.8 x\n",
      "Relative diff. in score: 0.0000\n"
     ]
    }
   ],
   "source": [
    "speed_up = t_predict_sklearn/t_predict_snapml\n",
    "score_diff = (score_snapml - score_sklearn)/score_sklearn\n",
    "print(\"Snap ML vs Scikit-Learn Speed-up: %.1f x\" % (speed_up))\n",
    "print(\"Relative diff. in score: %.4f\" % (score_diff))"
   ]
  },
  {
   "cell_type": "markdown",
   "metadata": {},
   "source": [
    "## Disclaimer\n",
    "\n",
    "Performance results always depend on the hardware and software environment. \n",
    "\n",
    "Information regarding the environment that was used to run this notebook are provided below:"
   ]
  },
  {
   "cell_type": "code",
   "execution_count": 58,
   "metadata": {
    "execution": {
     "iopub.execute_input": "2022-04-04T14:47:29.074494Z",
     "iopub.status.busy": "2022-04-04T14:47:29.073143Z",
     "iopub.status.idle": "2022-04-04T14:47:29.883979Z",
     "shell.execute_reply": "2022-04-04T14:47:29.884271Z"
    }
   },
   "outputs": [
    {
     "name": "stdout",
     "output_type": "stream",
     "text": [
      "       platform: Linux-5.4.0-107-generic-s390x-with-glibc2.31\n",
      "      cpu_count: 12\n",
      "   cpu_freq_min: 0.0\n",
      "   cpu_freq_max: 0.0\n",
      "   total_memory: 251.740966796875\n",
      " snapml_version: 1.9.0\n",
      "sklearn_version: 0.24.2\n",
      "xgboost_version: 1.3.3\n",
      "lightgbm_version: 3.3.2\n"
     ]
    }
   ],
   "source": [
    "import utils\n",
    "environment = utils.get_environment()\n",
    "for k,v in environment.items():\n",
    "    print(\"%15s: %s\" % (k, v))"
   ]
  },
  {
   "cell_type": "markdown",
   "metadata": {},
   "source": [
    "## Record Statistics\n",
    "\n",
    "Finally, we record the enviroment and performance statistics for analysis outside of this standalone notebook."
   ]
  },
  {
   "cell_type": "code",
   "execution_count": null,
   "metadata": {
    "execution": {
     "iopub.execute_input": "2022-04-04T14:47:29.888400Z",
     "iopub.status.busy": "2022-04-04T14:47:29.888035Z",
     "iopub.status.idle": "2022-04-04T14:47:29.972118Z",
     "shell.execute_reply": "2022-04-04T14:47:29.971762Z"
    }
   },
   "outputs": [],
   "source": [
    "import scrapbook as sb\n",
    "sb.glue(\"result\", {\n",
    "    'dataset': dataset.name,\n",
    "    'n_examples_train': X_train.shape[0],\n",
    "    'n_examples_test': X_test.shape[0],\n",
    "    'n_features': X_train.shape[1],\n",
    "    'n_classes': len(np.unique(y_train)),\n",
    "    'model': type(model).__name__,\n",
    "    'score': score.__name__,\n",
    "    't_fit_sklearn': t_fit_sklearn,\n",
    "    'score_sklearn': score_sklearn,\n",
    "    't_fit_snapml': 0,\n",
    "    'score_snapml': score_snapml,\n",
    "    'score_diff': score_diff,\n",
    "    'speed_up': speed_up,\n",
    "    **environment,\n",
    "})"
   ]
  }
 ],
 "metadata": {
  "kernelspec": {
   "display_name": "Python 3 (ipykernel)",
   "language": "python",
   "name": "python3"
  },
  "language_info": {
   "codemirror_mode": {
    "name": "ipython",
    "version": 3
   },
   "file_extension": ".py",
   "mimetype": "text/x-python",
   "name": "python",
   "nbconvert_exporter": "python",
   "pygments_lexer": "ipython3",
   "version": "3.9.7"
  }
 },
 "nbformat": 4,
 "nbformat_minor": 4
}
