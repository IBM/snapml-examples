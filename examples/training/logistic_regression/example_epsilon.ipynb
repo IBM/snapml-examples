{
 "cells": [
  {
   "cell_type": "markdown",
   "metadata": {},
   "source": [
    "```\n",
    "Copyright 2021 IBM Corporation\n",
    "\n",
    "Licensed under the Apache License, Version 2.0 (the \"License\");\n",
    "you may not use this file except in compliance with the License.\n",
    "You may obtain a copy of the License at\n",
    "\n",
    "     http://www.apache.org/licenses/LICENSE-2.0\n",
    "\n",
    "Unless required by applicable law or agreed to in writing, software\n",
    "distributed under the License is distributed on an \"AS IS\" BASIS,\n",
    "WITHOUT WARRANTIES OR CONDITIONS OF ANY KIND, either express or implied.\n",
    "See the License for the specific language governing permissions and\n",
    "limitations under the License.\n",
    "```"
   ]
  },
  {
   "cell_type": "markdown",
   "metadata": {},
   "source": [
    "# Logistic Regression on Epsilon Dataset\n",
    "\n",
    "## Background \n",
    "\n",
    "This is a synthetic dataset from the [PASCAL Large Scale Learning Challenge](https://www.k4all.org/project/large-scale-learning-challenge/). This challenge is concerned with the scalability and efficiency of existing ML approaches with respect to computational, memory or communication resources, e.g. resulting from a high algorithmic complexity, from the size or dimensionality of the data set, and from the trade-off between distributed resolution and communication costs.\n",
    "\n",
    "## Source\n",
    "\n",
    "In this example, we download the dataset from the [UCI Machine Learning Repository](https://archive.ics.uci.edu/ml/datasets.php).\n",
    "\n",
    "## Goal\n",
    "The goal of this notebook is to illustrate how Snap ML can accelerate training of a logistic regression model on this dataset.\n",
    "\n",
    "## Code"
   ]
  },
  {
   "cell_type": "code",
   "execution_count": 1,
   "metadata": {
    "execution": {
     "iopub.execute_input": "2022-01-12T16:14:39.916942Z",
     "iopub.status.busy": "2022-01-12T16:14:39.916586Z",
     "iopub.status.idle": "2022-01-12T16:14:39.920115Z",
     "shell.execute_reply": "2022-01-12T16:14:39.920401Z"
    }
   },
   "outputs": [
    {
     "name": "stdout",
     "output_type": "stream",
     "text": [
      "/localhome/tpa/snapml-examples/examples\n"
     ]
    }
   ],
   "source": [
    "cd ../../"
   ]
  },
  {
   "cell_type": "code",
   "execution_count": 2,
   "metadata": {
    "execution": {
     "iopub.execute_input": "2022-01-12T16:14:39.922480Z",
     "iopub.status.busy": "2022-01-12T16:14:39.922147Z",
     "iopub.status.idle": "2022-01-12T16:14:39.923788Z",
     "shell.execute_reply": "2022-01-12T16:14:39.923497Z"
    }
   },
   "outputs": [],
   "source": [
    "CACHE_DIR='cache-dir'"
   ]
  },
  {
   "cell_type": "code",
   "execution_count": 3,
   "metadata": {
    "execution": {
     "iopub.execute_input": "2022-01-12T16:14:39.926402Z",
     "iopub.status.busy": "2022-01-12T16:14:39.926059Z",
     "iopub.status.idle": "2022-01-12T16:14:40.552691Z",
     "shell.execute_reply": "2022-01-12T16:14:40.552317Z"
    }
   },
   "outputs": [],
   "source": [
    "import numpy as np\n",
    "import time\n",
    "from datasets import Epsilon\n",
    "from sklearn.linear_model import LogisticRegression\n",
    "from snapml import LogisticRegression as SnapLogisticRegression\n",
    "from sklearn.metrics import roc_auc_score as score"
   ]
  },
  {
   "cell_type": "code",
   "execution_count": 4,
   "metadata": {
    "execution": {
     "iopub.execute_input": "2022-01-12T16:14:40.556201Z",
     "iopub.status.busy": "2022-01-12T16:14:40.555853Z",
     "iopub.status.idle": "2022-01-12T16:14:41.501318Z",
     "shell.execute_reply": "2022-01-12T16:14:41.501588Z"
    }
   },
   "outputs": [
    {
     "name": "stdout",
     "output_type": "stream",
     "text": [
      "Reading binary Epsilon dataset (cache) from disk.\n"
     ]
    }
   ],
   "source": [
    "dataset = Epsilon(cache_dir=CACHE_DIR)\n",
    "X_train, X_test, y_train, y_test = dataset.get_train_test_split()"
   ]
  },
  {
   "cell_type": "code",
   "execution_count": 5,
   "metadata": {
    "execution": {
     "iopub.execute_input": "2022-01-12T16:14:41.504769Z",
     "iopub.status.busy": "2022-01-12T16:14:41.504426Z",
     "iopub.status.idle": "2022-01-12T16:14:41.513097Z",
     "shell.execute_reply": "2022-01-12T16:14:41.513382Z"
    }
   },
   "outputs": [
    {
     "name": "stdout",
     "output_type": "stream",
     "text": [
      "Number of examples: 300000\n",
      "Number of features: 2000\n",
      "Number of classes:  2\n"
     ]
    }
   ],
   "source": [
    "print(\"Number of examples: %d\" % (X_train.shape[0]))\n",
    "print(\"Number of features: %d\" % (X_train.shape[1]))\n",
    "print(\"Number of classes:  %d\" % (len(np.unique(y_train))))"
   ]
  },
  {
   "cell_type": "code",
   "execution_count": 6,
   "metadata": {
    "execution": {
     "iopub.execute_input": "2022-01-12T16:14:41.514997Z",
     "iopub.status.busy": "2022-01-12T16:14:41.514660Z",
     "iopub.status.idle": "2022-01-12T16:44:21.133462Z",
     "shell.execute_reply": "2022-01-12T16:44:21.133833Z"
    }
   },
   "outputs": [
    {
     "name": "stdout",
     "output_type": "stream",
     "text": [
      "Training time (sklearn): 1778.92 seconds\n",
      "ROC AUC score (sklearn): 0.9586\n"
     ]
    }
   ],
   "source": [
    "model = LogisticRegression(fit_intercept=False, n_jobs=4)\n",
    "t0 = time.time()\n",
    "model.fit(X_train, y_train)\n",
    "t_fit_sklearn = time.time()-t0\n",
    "score_sklearn = score(y_test, model.predict_proba(X_test)[:,1])\n",
    "print(\"Training time (sklearn): %6.2f seconds\" % (t_fit_sklearn))\n",
    "print(\"ROC AUC score (sklearn): %.4f\" % (score_sklearn))"
   ]
  },
  {
   "cell_type": "code",
   "execution_count": 7,
   "metadata": {
    "execution": {
     "iopub.execute_input": "2022-01-12T16:44:21.137214Z",
     "iopub.status.busy": "2022-01-12T16:44:21.136792Z",
     "iopub.status.idle": "2022-01-12T16:44:24.656773Z",
     "shell.execute_reply": "2022-01-12T16:44:24.657069Z"
    }
   },
   "outputs": [
    {
     "name": "stdout",
     "output_type": "stream",
     "text": [
      "Training time (snapml):   3.14 seconds\n",
      "ROC AUC score (snapml): 0.9586\n"
     ]
    }
   ],
   "source": [
    "model = SnapLogisticRegression(fit_intercept=False, n_jobs=4)\n",
    "t0 = time.time()\n",
    "model.fit(X_train, y_train)\n",
    "t_fit_snapml = time.time()-t0\n",
    "score_snapml = score(y_test, model.predict_proba(X_test)[:,1])\n",
    "print(\"Training time (snapml): %6.2f seconds\" % (t_fit_snapml))\n",
    "print(\"ROC AUC score (snapml): %.4f\" % (score_snapml))"
   ]
  },
  {
   "cell_type": "code",
   "execution_count": 8,
   "metadata": {
    "execution": {
     "iopub.execute_input": "2022-01-12T16:44:24.661254Z",
     "iopub.status.busy": "2022-01-12T16:44:24.660902Z",
     "iopub.status.idle": "2022-01-12T16:44:24.662981Z",
     "shell.execute_reply": "2022-01-12T16:44:24.662632Z"
    }
   },
   "outputs": [
    {
     "name": "stdout",
     "output_type": "stream",
     "text": [
      "Speed-up:                566.4 x\n",
      "Relative diff. in score: 0.0000\n"
     ]
    }
   ],
   "source": [
    "speed_up = t_fit_sklearn/t_fit_snapml\n",
    "score_diff = (score_snapml-score_sklearn)/score_sklearn\n",
    "print(\"Speed-up:                %.1f x\" % (speed_up))\n",
    "print(\"Relative diff. in score: %.4f\" % (score_diff))"
   ]
  },
  {
   "cell_type": "markdown",
   "metadata": {},
   "source": [
    "## Disclaimer\n",
    "\n",
    "Performance results always depend on the hardware and software environment. \n",
    "\n",
    "Information regarding the environment that was used to run this notebook are provided below:"
   ]
  },
  {
   "cell_type": "code",
   "execution_count": 9,
   "metadata": {
    "execution": {
     "iopub.execute_input": "2022-01-12T16:44:24.665719Z",
     "iopub.status.busy": "2022-01-12T16:44:24.664332Z",
     "iopub.status.idle": "2022-01-12T16:44:25.471954Z",
     "shell.execute_reply": "2022-01-12T16:44:25.471657Z"
    }
   },
   "outputs": [
    {
     "name": "stdout",
     "output_type": "stream",
     "text": [
      "       platform: Linux-4.15.0-151-generic-x86_64-with-glibc2.10\n",
      "      cpu_count: 40\n",
      "   cpu_freq_min: 800.0\n",
      "   cpu_freq_max: 2101.0\n",
      "   total_memory: 250.58893203735352\n",
      " snapml_version: 1.8.3\n",
      "sklearn_version: 1.0.1\n",
      "xgboost_version: 1.3.3\n",
      "lightgbm_version: 3.1.1\n"
     ]
    }
   ],
   "source": [
    "import utils\n",
    "environment = utils.get_environment()\n",
    "for k,v in environment.items():\n",
    "    print(\"%15s: %s\" % (k, v))"
   ]
  },
  {
   "cell_type": "markdown",
   "metadata": {},
   "source": [
    "## Record Statistics\n",
    "\n",
    "Finally, we record the enviroment and performance statistics for analysis outside of this standalone notebook."
   ]
  },
  {
   "cell_type": "code",
   "execution_count": 10,
   "metadata": {
    "execution": {
     "iopub.execute_input": "2022-01-12T16:44:25.475648Z",
     "iopub.status.busy": "2022-01-12T16:44:25.473321Z",
     "iopub.status.idle": "2022-01-12T16:44:25.570137Z",
     "shell.execute_reply": "2022-01-12T16:44:25.569809Z"
    }
   },
   "outputs": [
    {
     "name": "stderr",
     "output_type": "stream",
     "text": [
      "/localhome/tpa/anaconda3/envs/snapenv/lib/python3.8/site-packages/papermill/iorw.py:50: FutureWarning: pyarrow.HadoopFileSystem is deprecated as of 2.0.0, please use pyarrow.fs.HadoopFileSystem instead.\n",
      "  from pyarrow import HadoopFileSystem\n"
     ]
    },
    {
     "data": {
      "application/scrapbook.scrap.json+json": {
       "data": {
        "cpu_count": 40,
        "cpu_freq_max": 2101.0,
        "cpu_freq_min": 800.0,
        "dataset": "Epsilon",
        "lightgbm_version": "3.1.1",
        "model": "LogisticRegression",
        "n_classes": 2,
        "n_examples_test": 100000,
        "n_examples_train": 300000,
        "n_features": 2000,
        "platform": "Linux-4.15.0-151-generic-x86_64-with-glibc2.10",
        "score": "roc_auc_score",
        "score_diff": 7.928038068123259e-07,
        "score_sklearn": 0.9586247669066316,
        "score_snapml": 0.9586255269079961,
        "sklearn_version": "1.0.1",
        "snapml_version": "1.8.3",
        "speed_up": 566.4296851946619,
        "t_fit_sklearn": 1778.9185163974762,
        "t_fit_snapml": 3.1405813694000244,
        "total_memory": 250.58893203735352,
        "xgboost_version": "1.3.3"
       },
       "encoder": "json",
       "name": "result",
       "version": 1
      }
     },
     "metadata": {
      "scrapbook": {
       "data": true,
       "display": false,
       "name": "result"
      }
     },
     "output_type": "display_data"
    }
   ],
   "source": [
    "import scrapbook as sb\n",
    "sb.glue(\"result\", {\n",
    "    'dataset': dataset.name,\n",
    "    'n_examples_train': X_train.shape[0],\n",
    "    'n_examples_test': X_test.shape[0],\n",
    "    'n_features': X_train.shape[1],\n",
    "    'n_classes': len(np.unique(y_train)),\n",
    "    'model': type(model).__name__,\n",
    "    'score': score.__name__,\n",
    "    't_fit_sklearn': t_fit_sklearn,\n",
    "    'score_sklearn': score_sklearn,\n",
    "    't_fit_snapml': t_fit_snapml,\n",
    "    'score_snapml': score_snapml,\n",
    "    'score_diff': score_diff,\n",
    "    'speed_up': speed_up,\n",
    "    **environment,\n",
    "})"
   ]
  },
  {
   "cell_type": "code",
   "execution_count": null,
   "metadata": {},
   "outputs": [],
   "source": []
  }
 ],
 "metadata": {
  "kernelspec": {
   "display_name": "Python 3",
   "language": "python",
   "name": "python3"
  },
  "language_info": {
   "codemirror_mode": {
    "name": "ipython",
    "version": 3
   },
   "file_extension": ".py",
   "mimetype": "text/x-python",
   "name": "python",
   "nbconvert_exporter": "python",
   "pygments_lexer": "ipython3",
   "version": "3.8.0"
  }
 },
 "nbformat": 4,
 "nbformat_minor": 4
}
