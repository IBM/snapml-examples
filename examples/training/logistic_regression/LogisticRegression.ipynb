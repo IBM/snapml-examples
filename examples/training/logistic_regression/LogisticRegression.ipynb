{
 "cells": [
  {
   "cell_type": "code",
   "execution_count": 1,
   "metadata": {},
   "outputs": [
    {
     "name": "stdout",
     "output_type": "stream",
     "text": [
      "/Users/tpa/Code/snapml-examples/examples\n"
     ]
    }
   ],
   "source": [
    "cd ../../"
   ]
  },
  {
   "cell_type": "code",
   "execution_count": 2,
   "metadata": {},
   "outputs": [],
   "source": [
    "from datasets import Avazu"
   ]
  },
  {
   "cell_type": "code",
   "execution_count": 3,
   "metadata": {},
   "outputs": [],
   "source": [
    "dataset = Avazu('cache-dir')"
   ]
  },
  {
   "cell_type": "code",
   "execution_count": 4,
   "metadata": {},
   "outputs": [],
   "source": [
    "X_train, X_test, y_train, y_test = dataset.get_train_test_split()"
   ]
  },
  {
   "cell_type": "code",
   "execution_count": 5,
   "metadata": {},
   "outputs": [],
   "source": [
    "from sklearn.linear_model import LogisticRegression\n",
    "from snapml import LogisticRegression as SnapLogisticRegression\n",
    "import time\n",
    "from sklearn.metrics import roc_auc_score"
   ]
  },
  {
   "cell_type": "code",
   "execution_count": 6,
   "metadata": {},
   "outputs": [
    {
     "name": "stdout",
     "output_type": "stream",
     "text": [
      "[  sk-default] t_fit:   140.92, roc: 0.7466\n"
     ]
    }
   ],
   "source": [
    "lr = LogisticRegression(fit_intercept=False, n_jobs=4, class_weight='balanced')\n",
    "t0 = time.time()\n",
    "lr.fit(X_train, y_train)\n",
    "t_sk = time.time()-t0\n",
    "score_sk = roc_auc_score(y_test, lr.predict_proba(X_test)[:,1])\n",
    "print(\"[  sk-default] t_fit: %8.2f, roc: %.4f\" % (t_sk, score_sk))"
   ]
  },
  {
   "cell_type": "code",
   "execution_count": 7,
   "metadata": {},
   "outputs": [
    {
     "name": "stdout",
     "output_type": "stream",
     "text": [
      "[sk-liblinear] t_fit:   252.05, roc: 0.7499\n"
     ]
    }
   ],
   "source": [
    "lr = LogisticRegression(dual=True, fit_intercept=False, solver=\"liblinear\", class_weight='balanced')\n",
    "t0 = time.time()\n",
    "lr.fit(X_train, y_train)\n",
    "t_sk = time.time()-t0\n",
    "score_sk = roc_auc_score(y_test, lr.predict_proba(X_test)[:,1])\n",
    "print(\"[sk-liblinear] t_fit: %8.2f, roc: %.4f\" % (t_sk, score_sk))"
   ]
  },
  {
   "cell_type": "code",
   "execution_count": 8,
   "metadata": {},
   "outputs": [
    {
     "name": "stdout",
     "output_type": "stream",
     "text": [
      "[      snapml] t_fit:    11.24, roc: 0.7495\n"
     ]
    }
   ],
   "source": [
    "lr = SnapLogisticRegression(fit_intercept=False, n_jobs=4, class_weight='balanced')\n",
    "t0 = time.time()\n",
    "lr.fit(X_train, y_train)\n",
    "t_snap = time.time()-t0\n",
    "score_snap = roc_auc_score(y_test, lr.predict_proba(X_test)[:,1])\n",
    "print(\"[      snapml] t_fit: %8.2f, roc: %.4f\" % (t_snap, score_snap))"
   ]
  }
 ],
 "metadata": {
  "kernelspec": {
   "display_name": "Python 3",
   "language": "python",
   "name": "python3"
  },
  "language_info": {
   "codemirror_mode": {
    "name": "ipython",
    "version": 3
   },
   "file_extension": ".py",
   "mimetype": "text/x-python",
   "name": "python",
   "nbconvert_exporter": "python",
   "pygments_lexer": "ipython3",
   "version": "3.8.5"
  }
 },
 "nbformat": 4,
 "nbformat_minor": 4
}
