{
 "cells": [
  {
   "cell_type": "markdown",
   "metadata": {},
   "source": [
    "```\n",
    "Copyright 2021 IBM Corporation\n",
    "\n",
    "Licensed under the Apache License, Version 2.0 (the \"License\");\n",
    "you may not use this file except in compliance with the License.\n",
    "You may obtain a copy of the License at\n",
    "\n",
    "     http://www.apache.org/licenses/LICENSE-2.0\n",
    "\n",
    "Unless required by applicable law or agreed to in writing, software\n",
    "distributed under the License is distributed on an \"AS IS\" BASIS,\n",
    "WITHOUT WARRANTIES OR CONDITIONS OF ANY KIND, either express or implied.\n",
    "See the License for the specific language governing permissions and\n",
    "limitations under the License.\n",
    "```"
   ]
  },
  {
   "cell_type": "markdown",
   "metadata": {},
   "source": [
    "# Support Vector Machine on Epsilon Dataset\n",
    "\n",
    "## Background \n",
    "\n",
    "This is a synthetic dataset from the [PASCAL Large Scale Learning Challenge](https://www.k4all.org/project/large-scale-learning-challenge/). This challenge is concerned with the scalability and efficiency of existing ML approaches with respect to computational, memory or communication resources, e.g. resulting from a high algorithmic complexity, from the size or dimensionality of the data set, and from the trade-off between distributed resolution and communication costs.\n",
    "\n",
    "## Source\n",
    "\n",
    "In this example, we download the dataset from the [UCI Machine Learning Repository](https://archive.ics.uci.edu/ml/datasets.php).\n",
    "\n",
    "## Goal\n",
    "The goal of this notebook is to illustrate how Snap ML can accelerate training of a support vector machine model on this dataset.\n",
    "\n",
    "## Code"
   ]
  },
  {
   "cell_type": "code",
   "execution_count": 1,
   "metadata": {
    "execution": {
     "iopub.execute_input": "2021-12-03T12:14:18.628182Z",
     "iopub.status.busy": "2021-12-03T12:14:18.623433Z",
     "iopub.status.idle": "2021-12-03T12:14:18.638920Z",
     "shell.execute_reply": "2021-12-03T12:14:18.640152Z"
    }
   },
   "outputs": [
    {
     "name": "stdout",
     "output_type": "stream",
     "text": [
      "/localhome/tpa/snapml-examples/examples\n"
     ]
    }
   ],
   "source": [
    "cd ../../"
   ]
  },
  {
   "cell_type": "code",
   "execution_count": 2,
   "metadata": {
    "execution": {
     "iopub.execute_input": "2021-12-03T12:14:18.647124Z",
     "iopub.status.busy": "2021-12-03T12:14:18.646413Z",
     "iopub.status.idle": "2021-12-03T12:14:18.649492Z",
     "shell.execute_reply": "2021-12-03T12:14:18.650045Z"
    }
   },
   "outputs": [],
   "source": [
    "CACHE_DIR='cache-dir'"
   ]
  },
  {
   "cell_type": "code",
   "execution_count": 3,
   "metadata": {
    "execution": {
     "iopub.execute_input": "2021-12-03T12:14:18.657132Z",
     "iopub.status.busy": "2021-12-03T12:14:18.656259Z",
     "iopub.status.idle": "2021-12-03T12:14:19.493176Z",
     "shell.execute_reply": "2021-12-03T12:14:19.492364Z"
    }
   },
   "outputs": [],
   "source": [
    "import numpy as np\n",
    "import time\n",
    "from datasets import Epsilon\n",
    "from sklearn.svm import LinearSVC\n",
    "from snapml import SupportVectorMachine as SnapSupportVectorMachine\n",
    "from sklearn.metrics import accuracy_score as score"
   ]
  },
  {
   "cell_type": "code",
   "execution_count": 4,
   "metadata": {
    "execution": {
     "iopub.execute_input": "2021-12-03T12:14:19.499307Z",
     "iopub.status.busy": "2021-12-03T12:14:19.498452Z",
     "iopub.status.idle": "2021-12-03T12:14:20.471604Z",
     "shell.execute_reply": "2021-12-03T12:14:20.470301Z"
    }
   },
   "outputs": [
    {
     "name": "stdout",
     "output_type": "stream",
     "text": [
      "Reading binary Epsilon dataset (cache) from disk.\n"
     ]
    }
   ],
   "source": [
    "dataset = Epsilon(cache_dir=CACHE_DIR)\n",
    "X_train, X_test, y_train, y_test = dataset.get_train_test_split()"
   ]
  },
  {
   "cell_type": "code",
   "execution_count": 5,
   "metadata": {
    "execution": {
     "iopub.execute_input": "2021-12-03T12:14:20.483393Z",
     "iopub.status.busy": "2021-12-03T12:14:20.482245Z",
     "iopub.status.idle": "2021-12-03T12:14:20.504003Z",
     "shell.execute_reply": "2021-12-03T12:14:20.502686Z"
    }
   },
   "outputs": [
    {
     "name": "stdout",
     "output_type": "stream",
     "text": [
      "Number of examples: 300000\n",
      "Number of features: 2000\n",
      "Number of classes:  2\n"
     ]
    }
   ],
   "source": [
    "print(\"Number of examples: %d\" % (X_train.shape[0]))\n",
    "print(\"Number of features: %d\" % (X_train.shape[1]))\n",
    "print(\"Number of classes:  %d\" % (len(np.unique(y_train))))"
   ]
  },
  {
   "cell_type": "code",
   "execution_count": 6,
   "metadata": {
    "execution": {
     "iopub.execute_input": "2021-12-03T12:14:20.512155Z",
     "iopub.status.busy": "2021-12-03T12:14:20.510680Z",
     "iopub.status.idle": "2021-12-03T12:14:20.528815Z",
     "shell.execute_reply": "2021-12-03T12:14:20.527639Z"
    }
   },
   "outputs": [
    {
     "name": "stdout",
     "output_type": "stream",
     "text": [
      " 50.04 % of the training transactions belong to class 0\n",
      " 49.96 % of the training transactions belong to class 1\n"
     ]
    }
   ],
   "source": [
    "# the dataset is highly imbalanced\n",
    "labels, sizes = np.unique(y_train, return_counts=True)\n",
    "print(\"%6.2f %% of the training transactions belong to class 0\" % (sizes[0]*100.0/(sizes[0]+sizes[1])))\n",
    "print(\"%6.2f %% of the training transactions belong to class 1\" % (sizes[1]*100.0/(sizes[0]+sizes[1])))"
   ]
  },
  {
   "cell_type": "code",
   "execution_count": 7,
   "metadata": {
    "execution": {
     "iopub.execute_input": "2021-12-03T12:14:20.536877Z",
     "iopub.status.busy": "2021-12-03T12:14:20.535496Z",
     "iopub.status.idle": "2021-12-03T12:14:54.474962Z",
     "shell.execute_reply": "2021-12-03T12:14:54.475537Z"
    }
   },
   "outputs": [
    {
     "name": "stderr",
     "output_type": "stream",
     "text": [
      "/localhome/tpa/anaconda3/envs/snapenv/lib/python3.8/site-packages/sklearn/svm/_base.py:1206: ConvergenceWarning: Liblinear failed to converge, increase the number of iterations.\n",
      "  warnings.warn(\n"
     ]
    },
    {
     "name": "stdout",
     "output_type": "stream",
     "text": [
      "Training time (sklearn):  33.28 seconds\n",
      "Accuracy score (sklearn): 0.8985\n"
     ]
    }
   ],
   "source": [
    "model = LinearSVC(loss=\"hinge\", random_state=42)\n",
    "t0 = time.time()\n",
    "model.fit(X_train, y_train)\n",
    "t_fit_sklearn = time.time()-t0\n",
    "score_sklearn = score(y_test, model.predict(X_test))\n",
    "print(\"Training time (sklearn): %6.2f seconds\" % (t_fit_sklearn))\n",
    "print(\"Accuracy score (sklearn): %.4f\" % (score_sklearn))"
   ]
  },
  {
   "cell_type": "code",
   "execution_count": 8,
   "metadata": {
    "execution": {
     "iopub.execute_input": "2021-12-03T12:14:54.480217Z",
     "iopub.status.busy": "2021-12-03T12:14:54.479601Z",
     "iopub.status.idle": "2021-12-03T12:14:58.216180Z",
     "shell.execute_reply": "2021-12-03T12:14:58.214789Z"
    }
   },
   "outputs": [
    {
     "name": "stdout",
     "output_type": "stream",
     "text": [
      "Training time (snapml):   3.26 seconds\n",
      "Accuracy score (snapml): 0.8983\n"
     ]
    }
   ],
   "source": [
    "model = SnapSupportVectorMachine(n_jobs=4, random_state=42)\n",
    "t0 = time.time()\n",
    "model.fit(X_train, y_train)\n",
    "t_fit_snapml = time.time()-t0\n",
    "score_snapml = score(y_test, model.predict(X_test))\n",
    "print(\"Training time (snapml): %6.2f seconds\" % (t_fit_snapml))\n",
    "print(\"Accuracy score (snapml): %.4f\" % (score_snapml))"
   ]
  },
  {
   "cell_type": "code",
   "execution_count": 9,
   "metadata": {
    "execution": {
     "iopub.execute_input": "2021-12-03T12:14:58.224210Z",
     "iopub.status.busy": "2021-12-03T12:14:58.223357Z",
     "iopub.status.idle": "2021-12-03T12:14:58.227396Z",
     "shell.execute_reply": "2021-12-03T12:14:58.226653Z"
    }
   },
   "outputs": [
    {
     "name": "stdout",
     "output_type": "stream",
     "text": [
      "Speed-up:                10.2 x\n",
      "Relative diff. in score: -0.0003\n"
     ]
    }
   ],
   "source": [
    "speed_up = t_fit_sklearn/t_fit_snapml\n",
    "score_diff = (score_snapml-score_sklearn)/score_sklearn\n",
    "print(\"Speed-up:                %.1f x\" % (speed_up))\n",
    "print(\"Relative diff. in score: %.4f\" % (score_diff))"
   ]
  },
  {
   "cell_type": "markdown",
   "metadata": {},
   "source": [
    "## Disclaimer\n",
    "\n",
    "Performance results always depend on the hardware and software environment. \n",
    "\n",
    "Information regarding the environment that was used to run this notebook are provided below:"
   ]
  },
  {
   "cell_type": "code",
   "execution_count": 10,
   "metadata": {
    "execution": {
     "iopub.execute_input": "2021-12-03T12:14:58.235244Z",
     "iopub.status.busy": "2021-12-03T12:14:58.234392Z",
     "iopub.status.idle": "2021-12-03T12:14:59.049444Z",
     "shell.execute_reply": "2021-12-03T12:14:59.048761Z"
    }
   },
   "outputs": [
    {
     "name": "stdout",
     "output_type": "stream",
     "text": [
      "       platform: Linux-4.15.0-151-generic-x86_64-with-glibc2.10\n",
      "      cpu_count: 40\n",
      "   cpu_freq_min: 800.0\n",
      "   cpu_freq_max: 2101.0\n",
      "   total_memory: 250.58893203735352\n",
      " snapml_version: 1.8.1\n",
      "sklearn_version: 1.0.1\n",
      "xgboost_version: 1.3.3\n",
      "lightgbm_version: 3.1.1\n"
     ]
    }
   ],
   "source": [
    "import utils\n",
    "environment = utils.get_environment()\n",
    "for k,v in environment.items():\n",
    "    print(\"%15s: %s\" % (k, v))"
   ]
  },
  {
   "cell_type": "markdown",
   "metadata": {},
   "source": [
    "## Record Statistics\n",
    "\n",
    "Finally, we record the enviroment and performance statistics for analysis outside of this standalone notebook."
   ]
  },
  {
   "cell_type": "code",
   "execution_count": 11,
   "metadata": {
    "execution": {
     "iopub.execute_input": "2021-12-03T12:14:59.058845Z",
     "iopub.status.busy": "2021-12-03T12:14:59.058032Z",
     "iopub.status.idle": "2021-12-03T12:14:59.213961Z",
     "shell.execute_reply": "2021-12-03T12:14:59.215257Z"
    }
   },
   "outputs": [
    {
     "name": "stderr",
     "output_type": "stream",
     "text": [
      "/localhome/tpa/anaconda3/envs/snapenv/lib/python3.8/site-packages/papermill/iorw.py:50: FutureWarning: pyarrow.HadoopFileSystem is deprecated as of 2.0.0, please use pyarrow.fs.HadoopFileSystem instead.\n",
      "  from pyarrow import HadoopFileSystem\n"
     ]
    },
    {
     "data": {
      "application/scrapbook.scrap.json+json": {
       "data": {
        "cpu_count": 40,
        "cpu_freq_max": 2101.0,
        "cpu_freq_min": 800.0,
        "dataset": "Epsilon",
        "lightgbm_version": "3.1.1",
        "model": "SupportVectorMachine",
        "n_classes": 2,
        "n_examples_test": 100000,
        "n_examples_train": 300000,
        "n_features": 2000,
        "platform": "Linux-4.15.0-151-generic-x86_64-with-glibc2.10",
        "score": "accuracy_score",
        "score_diff": -0.0002670969895942429,
        "score_sklearn": 0.89855,
        "score_snapml": 0.89831,
        "sklearn_version": "1.0.1",
        "snapml_version": "1.8.1",
        "speed_up": 10.217913903859698,
        "t_fit_sklearn": 33.27883172035217,
        "t_fit_snapml": 3.256910562515259,
        "total_memory": 250.58893203735352,
        "xgboost_version": "1.3.3"
       },
       "encoder": "json",
       "name": "result",
       "version": 1
      }
     },
     "metadata": {
      "scrapbook": {
       "data": true,
       "display": false,
       "name": "result"
      }
     },
     "output_type": "display_data"
    }
   ],
   "source": [
    "import scrapbook as sb\n",
    "sb.glue(\"result\", {\n",
    "    'dataset': dataset.name,\n",
    "    'n_examples_train': X_train.shape[0],\n",
    "    'n_examples_test': X_test.shape[0],\n",
    "    'n_features': X_train.shape[1],\n",
    "    'n_classes': len(np.unique(y_train)),\n",
    "    'model': type(model).__name__,\n",
    "    'score': score.__name__,\n",
    "    't_fit_sklearn': t_fit_sklearn,\n",
    "    'score_sklearn': score_sklearn,\n",
    "    't_fit_snapml': t_fit_snapml,\n",
    "    'score_snapml': score_snapml,\n",
    "    'score_diff': score_diff,\n",
    "    'speed_up': speed_up,\n",
    "    **environment,\n",
    "})"
   ]
  }
 ],
 "metadata": {
  "kernelspec": {
   "display_name": "Python 3",
   "language": "python",
   "name": "python3"
  },
  "language_info": {
   "codemirror_mode": {
    "name": "ipython",
    "version": 3
   },
   "file_extension": ".py",
   "mimetype": "text/x-python",
   "name": "python",
   "nbconvert_exporter": "python",
   "pygments_lexer": "ipython3",
   "version": "3.8.0"
  }
 },
 "nbformat": 4,
 "nbformat_minor": 4
}
