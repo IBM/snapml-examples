{
 "cells": [
  {
   "cell_type": "markdown",
   "metadata": {},
   "source": [
    "```\n",
    "Copyright 2021 IBM Corporation\n",
    "\n",
    "Licensed under the Apache License, Version 2.0 (the \"License\");\n",
    "you may not use this file except in compliance with the License.\n",
    "You may obtain a copy of the License at\n",
    "\n",
    "     http://www.apache.org/licenses/LICENSE-2.0\n",
    "\n",
    "Unless required by applicable law or agreed to in writing, software\n",
    "distributed under the License is distributed on an \"AS IS\" BASIS,\n",
    "WITHOUT WARRANTIES OR CONDITIONS OF ANY KIND, either express or implied.\n",
    "See the License for the specific language governing permissions and\n",
    "limitations under the License.\n",
    "```"
   ]
  },
  {
   "cell_type": "markdown",
   "metadata": {},
   "source": [
    "# Logistic Regression on MNIST8M Dataset\n",
    "\n",
    "## Background \n",
    "\n",
    "The MNIST database of handwritten digits has a training set of 60,000 examples, and a test set of 10,000 examples. It is a subset of a larger set available from NIST. The digits have been size-normalized and centered in a fixed-size image. It is a good database for people who want to try learning techniques and pattern recognition methods on real-world data while spending minimal efforts on preprocessing and formatting.\n",
    "\n",
    "## Source\n",
    "\n",
    "We use an inflated version of the dataset (`mnist8m`) from the paper:\n",
    "\n",
    "Gaëlle Loosli, Stéphane Canu and Léon Bottou: *Training Invariant Support Vector Machines using Selective Sampling*, in [Large Scale Kernel Machines](https://leon.bottou.org/papers/lskm-2007), Léon Bottou, Olivier Chapelle, Dennis DeCoste, and Jason Weston editors, 301–320, MIT Press, Cambridge, MA., 2007.\n",
    "\n",
    "We download the pre-processed dataset from the [LIBSVM dataset repository](https://www.csie.ntu.edu.tw/~cjlin/libsvmtools/datasets/).\n",
    "## Goal\n",
    "The goal of this notebook is to illustrate how Snap ML can accelerate training of a logistic regression model on this dataset.\n",
    "\n",
    "## Code"
   ]
  },
  {
   "cell_type": "code",
   "execution_count": 1,
   "metadata": {
    "execution": {
     "iopub.execute_input": "2022-04-04T12:19:29.413234Z",
     "iopub.status.busy": "2022-04-04T12:19:29.412768Z",
     "iopub.status.idle": "2022-04-04T12:19:29.417135Z",
     "shell.execute_reply": "2022-04-04T12:19:29.417431Z"
    }
   },
   "outputs": [
    {
     "name": "stdout",
     "output_type": "stream",
     "text": [
      "/localhome/tpa/snapml-examples/examples\n"
     ]
    }
   ],
   "source": [
    "cd ../../"
   ]
  },
  {
   "cell_type": "code",
   "execution_count": 2,
   "metadata": {
    "execution": {
     "iopub.execute_input": "2022-04-04T12:19:29.419377Z",
     "iopub.status.busy": "2022-04-04T12:19:29.418802Z",
     "iopub.status.idle": "2022-04-04T12:19:29.420738Z",
     "shell.execute_reply": "2022-04-04T12:19:29.421028Z"
    }
   },
   "outputs": [],
   "source": [
    "CACHE_DIR='cache-dir'"
   ]
  },
  {
   "cell_type": "code",
   "execution_count": 3,
   "metadata": {
    "execution": {
     "iopub.execute_input": "2022-04-04T12:19:29.423592Z",
     "iopub.status.busy": "2022-04-04T12:19:29.423236Z",
     "iopub.status.idle": "2022-04-04T12:19:30.041411Z",
     "shell.execute_reply": "2022-04-04T12:19:30.041046Z"
    }
   },
   "outputs": [],
   "source": [
    "import numpy as np\n",
    "import time\n",
    "from datasets import Mnist8m\n",
    "from sklearn.linear_model import LogisticRegression\n",
    "from snapml import LogisticRegression as SnapLogisticRegression\n",
    "from sklearn.metrics import accuracy_score as score"
   ]
  },
  {
   "cell_type": "code",
   "execution_count": 4,
   "metadata": {
    "execution": {
     "iopub.execute_input": "2022-04-04T12:19:30.044831Z",
     "iopub.status.busy": "2022-04-04T12:19:30.044467Z",
     "iopub.status.idle": "2022-04-04T12:19:50.394917Z",
     "shell.execute_reply": "2022-04-04T12:19:50.394526Z"
    }
   },
   "outputs": [
    {
     "name": "stdout",
     "output_type": "stream",
     "text": [
      "Reading binary Mnist8m dataset (cache) from disk.\n"
     ]
    }
   ],
   "source": [
    "dataset = Mnist8m(cache_dir=CACHE_DIR)\n",
    "X_train, X_test, y_train, y_test = dataset.get_train_test_split()"
   ]
  },
  {
   "cell_type": "code",
   "execution_count": 5,
   "metadata": {
    "execution": {
     "iopub.execute_input": "2022-04-04T12:19:50.398851Z",
     "iopub.status.busy": "2022-04-04T12:19:50.398493Z",
     "iopub.status.idle": "2022-04-04T12:19:50.590035Z",
     "shell.execute_reply": "2022-04-04T12:19:50.590324Z"
    }
   },
   "outputs": [
    {
     "name": "stdout",
     "output_type": "stream",
     "text": [
      "Number of examples: 6075000\n",
      "Number of features: 784\n",
      "Number of classes:  10\n"
     ]
    }
   ],
   "source": [
    "print(\"Number of examples: %d\" % (X_train.shape[0]))\n",
    "print(\"Number of features: %d\" % (X_train.shape[1]))\n",
    "print(\"Number of classes:  %d\" % (len(np.unique(y_train))))"
   ]
  },
  {
   "cell_type": "code",
   "execution_count": 6,
   "metadata": {
    "execution": {
     "iopub.execute_input": "2022-04-04T12:19:50.594172Z",
     "iopub.status.busy": "2022-04-04T12:19:50.591778Z",
     "iopub.status.idle": "2022-04-04T12:35:19.933677Z",
     "shell.execute_reply": "2022-04-04T12:35:19.933974Z"
    }
   },
   "outputs": [
    {
     "name": "stdout",
     "output_type": "stream",
     "text": [
      "Training time  (sklearn): 926.22 seconds\n",
      "Accuracy score (sklearn): 0.8452\n"
     ]
    }
   ],
   "source": [
    "model = LogisticRegression(fit_intercept=False, n_jobs=4, multi_class='ovr')\n",
    "t0 = time.time()\n",
    "model.fit(X_train, y_train)\n",
    "t_fit_sklearn = time.time()-t0\n",
    "score_sklearn = score(y_test, model.predict(X_test))\n",
    "print(\"Training time  (sklearn): %6.2f seconds\" % (t_fit_sklearn))\n",
    "print(\"Accuracy score (sklearn): %.4f\" % (score_sklearn))"
   ]
  },
  {
   "cell_type": "code",
   "execution_count": 7,
   "metadata": {
    "execution": {
     "iopub.execute_input": "2022-04-04T12:35:19.939463Z",
     "iopub.status.busy": "2022-04-04T12:35:19.939119Z",
     "iopub.status.idle": "2022-04-04T12:36:56.884254Z",
     "shell.execute_reply": "2022-04-04T12:36:56.884553Z"
    }
   },
   "outputs": [
    {
     "name": "stdout",
     "output_type": "stream",
     "text": [
      "Training time  (snapml):  94.15 seconds\n",
      "Accuracy score (snapml): 0.8452\n"
     ]
    }
   ],
   "source": [
    "model = SnapLogisticRegression(fit_intercept=False, n_jobs=4)\n",
    "t0 = time.time()\n",
    "model.fit(X_train, y_train)\n",
    "t_fit_snapml = time.time()-t0\n",
    "score_snapml = score(y_test, model.predict(X_test))\n",
    "print(\"Training time  (snapml): %6.2f seconds\" % (t_fit_snapml))\n",
    "print(\"Accuracy score (snapml): %.4f\" % (score_snapml))"
   ]
  },
  {
   "cell_type": "code",
   "execution_count": 8,
   "metadata": {
    "execution": {
     "iopub.execute_input": "2022-04-04T12:36:56.888462Z",
     "iopub.status.busy": "2022-04-04T12:36:56.888103Z",
     "iopub.status.idle": "2022-04-04T12:36:56.890270Z",
     "shell.execute_reply": "2022-04-04T12:36:56.889960Z"
    }
   },
   "outputs": [
    {
     "name": "stdout",
     "output_type": "stream",
     "text": [
      "Speed-up:                9.8 x\n",
      "Relative diff. in score: 0.0000\n"
     ]
    }
   ],
   "source": [
    "speed_up = t_fit_sklearn/t_fit_snapml\n",
    "score_diff = (score_snapml-score_sklearn)/score_sklearn\n",
    "print(\"Speed-up:                %.1f x\" % (speed_up))\n",
    "print(\"Relative diff. in score: %.4f\" % (score_diff))"
   ]
  },
  {
   "cell_type": "markdown",
   "metadata": {},
   "source": [
    "## Disclaimer\n",
    "\n",
    "Performance results always depend on the hardware and software environment. \n",
    "\n",
    "Information regarding the environment that was used to run this notebook are provided below:"
   ]
  },
  {
   "cell_type": "code",
   "execution_count": 9,
   "metadata": {
    "execution": {
     "iopub.execute_input": "2022-04-04T12:36:56.893254Z",
     "iopub.status.busy": "2022-04-04T12:36:56.892889Z",
     "iopub.status.idle": "2022-04-04T12:36:57.699704Z",
     "shell.execute_reply": "2022-04-04T12:36:57.699387Z"
    }
   },
   "outputs": [
    {
     "name": "stdout",
     "output_type": "stream",
     "text": [
      "       platform: Linux-4.15.0-151-generic-x86_64-with-glibc2.10\n",
      "      cpu_count: 40\n",
      "   cpu_freq_min: 800.0\n",
      "   cpu_freq_max: 2101.0\n",
      "   total_memory: 250.58893203735352\n",
      " snapml_version: 1.9.0\n",
      "sklearn_version: 1.0.1\n",
      "xgboost_version: 1.3.3\n",
      "lightgbm_version: 3.1.1\n"
     ]
    }
   ],
   "source": [
    "import utils\n",
    "environment = utils.get_environment()\n",
    "for k,v in environment.items():\n",
    "    print(\"%15s: %s\" % (k, v))"
   ]
  },
  {
   "cell_type": "markdown",
   "metadata": {},
   "source": [
    "## Record Statistics\n",
    "\n",
    "Finally, we record the enviroment and performance statistics for analysis outside of this standalone notebook."
   ]
  },
  {
   "cell_type": "code",
   "execution_count": 10,
   "metadata": {
    "execution": {
     "iopub.execute_input": "2022-04-04T12:36:57.703456Z",
     "iopub.status.busy": "2022-04-04T12:36:57.703093Z",
     "iopub.status.idle": "2022-04-04T12:36:57.972380Z",
     "shell.execute_reply": "2022-04-04T12:36:57.972069Z"
    }
   },
   "outputs": [
    {
     "name": "stderr",
     "output_type": "stream",
     "text": [
      "/localhome/tpa/anaconda3/envs/snapenv/lib/python3.8/site-packages/papermill/iorw.py:50: FutureWarning: pyarrow.HadoopFileSystem is deprecated as of 2.0.0, please use pyarrow.fs.HadoopFileSystem instead.\n",
      "  from pyarrow import HadoopFileSystem\n"
     ]
    },
    {
     "data": {
      "application/scrapbook.scrap.json+json": {
       "data": {
        "cpu_count": 40,
        "cpu_freq_max": 2101.0,
        "cpu_freq_min": 800.0,
        "dataset": "Mnist8m",
        "lightgbm_version": "3.1.1",
        "model": "LogisticRegression",
        "n_classes": 10,
        "n_examples_test": 2025000,
        "n_examples_train": 6075000,
        "n_features": 784,
        "platform": "Linux-4.15.0-151-generic-x86_64-with-glibc2.10",
        "score": "accuracy_score",
        "score_diff": 5.258268627319709e-06,
        "score_sklearn": 0.8452296296296297,
        "score_snapml": 0.845234074074074,
        "sklearn_version": "1.0.1",
        "snapml_version": "1.9.0",
        "speed_up": 9.83799130328772,
        "t_fit_sklearn": 926.2212381362915,
        "t_fit_snapml": 94.14739346504211,
        "total_memory": 250.58893203735352,
        "xgboost_version": "1.3.3"
       },
       "encoder": "json",
       "name": "result",
       "version": 1
      }
     },
     "metadata": {
      "scrapbook": {
       "data": true,
       "display": false,
       "name": "result"
      }
     },
     "output_type": "display_data"
    }
   ],
   "source": [
    "import scrapbook as sb\n",
    "sb.glue(\"result\", {\n",
    "    'dataset': dataset.name,\n",
    "    'n_examples_train': X_train.shape[0],\n",
    "    'n_examples_test': X_test.shape[0],\n",
    "    'n_features': X_train.shape[1],\n",
    "    'n_classes': len(np.unique(y_train)),\n",
    "    'model': type(model).__name__,\n",
    "    'score': score.__name__,\n",
    "    't_fit_sklearn': t_fit_sklearn,\n",
    "    'score_sklearn': score_sklearn,\n",
    "    't_fit_snapml': t_fit_snapml,\n",
    "    'score_snapml': score_snapml,\n",
    "    'score_diff': score_diff,\n",
    "    'speed_up': speed_up,\n",
    "    **environment,\n",
    "})"
   ]
  }
 ],
 "metadata": {
  "kernelspec": {
   "display_name": "Python 3",
   "language": "python",
   "name": "python3"
  },
  "language_info": {
   "codemirror_mode": {
    "name": "ipython",
    "version": 3
   },
   "file_extension": ".py",
   "mimetype": "text/x-python",
   "name": "python",
   "nbconvert_exporter": "python",
   "pygments_lexer": "ipython3",
   "version": "3.8.0"
  }
 },
 "nbformat": 4,
 "nbformat_minor": 4
}
