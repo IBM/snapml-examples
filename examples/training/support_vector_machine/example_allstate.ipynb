{
 "cells": [
  {
   "cell_type": "markdown",
   "metadata": {},
   "source": [
    "```\n",
    "Copyright 2021 IBM Corporation\n",
    "\n",
    "Licensed under the Apache License, Version 2.0 (the \"License\");\n",
    "you may not use this file except in compliance with the License.\n",
    "You may obtain a copy of the License at\n",
    "\n",
    "     http://www.apache.org/licenses/LICENSE-2.0\n",
    "\n",
    "Unless required by applicable law or agreed to in writing, software\n",
    "distributed under the License is distributed on an \"AS IS\" BASIS,\n",
    "WITHOUT WARRANTIES OR CONDITIONS OF ANY KIND, either express or implied.\n",
    "See the License for the specific language governing permissions and\n",
    "limitations under the License.\n",
    "```"
   ]
  },
  {
   "cell_type": "markdown",
   "metadata": {},
   "source": [
    "# Support Vector Machine on Allstate Dataset\n",
    "\n",
    "## Background \n",
    "\n",
    "The goal of this competition is to predict Bodily Injury Liability Insurance claim payments based on the characteristics of the insured’s vehicle. \n",
    "\n",
    "## Source\n",
    "\n",
    "The raw dataset can be obtained directly from the [Allstate Claim Prediction Challenge](https://www.kaggle.com/c/ClaimPredictionChallenge).\n",
    "\n",
    "In this example, we download the dataset directly from Kaggle using their API. In order for to work work, you must:\n",
    "1. Login into Kaggle and accept the [competition rules](https://www.kaggle.com/c/ClaimPredictionChallenge/rules).\n",
    "2. Folow [these instructions](https://www.kaggle.com/docs/api) to install your API token on your machine.\n",
    "\n",
    "## Goal\n",
    "The goal of this notebook is to illustrate how Snap ML can accelerate training of a support vector machine model on this dataset.\n",
    "\n",
    "## Code"
   ]
  },
  {
   "cell_type": "code",
   "execution_count": 2,
   "metadata": {
    "execution": {
     "iopub.execute_input": "2021-03-01T18:45:34.375637Z",
     "iopub.status.busy": "2021-03-01T18:45:34.374371Z",
     "iopub.status.idle": "2021-03-01T18:45:34.379351Z",
     "shell.execute_reply": "2021-03-01T18:45:34.380168Z"
    }
   },
   "outputs": [
    {
     "name": "stdout",
     "output_type": "stream",
     "text": [
      "/home/aan/snapml-examples-2/snapml-examples/examples\n"
     ]
    }
   ],
   "source": [
    "cd ../../"
   ]
  },
  {
   "cell_type": "code",
   "execution_count": 3,
   "metadata": {
    "execution": {
     "iopub.execute_input": "2021-03-01T18:45:34.385233Z",
     "iopub.status.busy": "2021-03-01T18:45:34.384441Z",
     "iopub.status.idle": "2021-03-01T18:45:34.386989Z",
     "shell.execute_reply": "2021-03-01T18:45:34.387682Z"
    }
   },
   "outputs": [],
   "source": [
    "CACHE_DIR='cache-dir'"
   ]
  },
  {
   "cell_type": "code",
   "execution_count": 4,
   "metadata": {
    "execution": {
     "iopub.execute_input": "2021-03-01T18:45:34.392550Z",
     "iopub.status.busy": "2021-03-01T18:45:34.391878Z",
     "iopub.status.idle": "2021-03-01T18:45:35.078815Z",
     "shell.execute_reply": "2021-03-01T18:45:35.079224Z"
    }
   },
   "outputs": [],
   "source": [
    "import numpy as np\n",
    "import time\n",
    "from datasets import Allstate\n",
    "from sklearn.svm import LinearSVC\n",
    "from snapml import SupportVectorMachine as SnapSupportVectorMachine\n",
    "from sklearn.metrics import accuracy_score as score"
   ]
  },
  {
   "cell_type": "code",
   "execution_count": 5,
   "metadata": {
    "execution": {
     "iopub.execute_input": "2021-03-01T18:45:35.082971Z",
     "iopub.status.busy": "2021-03-01T18:45:35.082394Z",
     "iopub.status.idle": "2021-03-01T18:45:37.172313Z",
     "shell.execute_reply": "2021-03-01T18:45:37.172798Z"
    }
   },
   "outputs": [
    {
     "name": "stdout",
     "output_type": "stream",
     "text": [
      "Reading binary Allstate dataset (cache) from disk.\n"
     ]
    }
   ],
   "source": [
    "dataset = Allstate(cache_dir=CACHE_DIR)\n",
    "X_train, X_test, y_train, y_test = dataset.get_train_test_split()"
   ]
  },
  {
   "cell_type": "code",
   "execution_count": 6,
   "metadata": {
    "execution": {
     "iopub.execute_input": "2021-03-01T18:45:37.176418Z",
     "iopub.status.busy": "2021-03-01T18:45:37.175926Z",
     "iopub.status.idle": "2021-03-01T18:45:37.448364Z",
     "shell.execute_reply": "2021-03-01T18:45:37.448852Z"
    }
   },
   "outputs": [
    {
     "name": "stdout",
     "output_type": "stream",
     "text": [
      "Number of examples: 9229003\n",
      "Number of features: 87\n",
      "Number of classes:  2\n"
     ]
    }
   ],
   "source": [
    "print(\"Number of examples: %d\" % (X_train.shape[0]))\n",
    "print(\"Number of features: %d\" % (X_train.shape[1]))\n",
    "print(\"Number of classes:  %d\" % (len(np.unique(y_train))))"
   ]
  },
  {
   "cell_type": "code",
   "execution_count": 7,
   "metadata": {},
   "outputs": [
    {
     "name": "stdout",
     "output_type": "stream",
     "text": [
      " 99.27 % of the training transactions belong to class 0\n",
      "  0.73 % of the training transactions belong to class 1\n"
     ]
    }
   ],
   "source": [
    "# the dataset is highly imbalanced\n",
    "labels, sizes = np.unique(y_train, return_counts=True)\n",
    "print(\"%6.2f %% of the training transactions belong to class 0\" % (sizes[0]*100.0/(sizes[0]+sizes[1])))\n",
    "print(\"%6.2f %% of the training transactions belong to class 1\" % (sizes[1]*100.0/(sizes[0]+sizes[1])))"
   ]
  },
  {
   "cell_type": "code",
   "execution_count": 8,
   "metadata": {
    "execution": {
     "iopub.execute_input": "2021-03-01T18:45:37.453397Z",
     "iopub.status.busy": "2021-03-01T18:45:37.452887Z",
     "iopub.status.idle": "2021-03-01T19:02:01.855380Z",
     "shell.execute_reply": "2021-03-01T19:02:01.855796Z"
    }
   },
   "outputs": [
    {
     "name": "stderr",
     "output_type": "stream",
     "text": [
      "/home/aan/anaconda3/lib/python3.7/site-packages/sklearn/svm/_base.py:986: ConvergenceWarning: Liblinear failed to converge, increase the number of iterations.\n",
      "  \"the number of iterations.\", ConvergenceWarning)\n"
     ]
    },
    {
     "name": "stdout",
     "output_type": "stream",
     "text": [
      "Training time (sklearn): 130.41 seconds\n",
      "Accuracy score (sklearn): 0.7851\n"
     ]
    }
   ],
   "source": [
    "model = LinearSVC(loss=\"hinge\", class_weight='balanced', fit_intercept=False, random_state=42)\n",
    "t0 = time.time()\n",
    "model.fit(X_train, y_train)\n",
    "t_fit_sklearn = time.time()-t0\n",
    "score_sklearn = score(y_test, model.predict(X_test))\n",
    "print(\"Training time (sklearn): %6.2f seconds\" % (t_fit_sklearn))\n",
    "print(\"Accuracy score (sklearn): %.4f\" % (score_sklearn))"
   ]
  },
  {
   "cell_type": "code",
   "execution_count": 12,
   "metadata": {
    "execution": {
     "iopub.execute_input": "2021-03-01T19:02:01.860269Z",
     "iopub.status.busy": "2021-03-01T19:02:01.859789Z",
     "iopub.status.idle": "2021-03-01T19:02:08.323437Z",
     "shell.execute_reply": "2021-03-01T19:02:08.323836Z"
    }
   },
   "outputs": [
    {
     "name": "stdout",
     "output_type": "stream",
     "text": [
      "Training time (snapml):  27.77 seconds\n",
      "Accuracy score (snapml): 0.7839\n"
     ]
    }
   ],
   "source": [
    "model = SnapSupportVectorMachine(n_jobs=4, class_weight='balanced', fit_intercept=False, random_state=42)\n",
    "t0 = time.time()\n",
    "model.fit(X_train, y_train)\n",
    "t_fit_snapml = time.time()-t0\n",
    "score_snapml = score(y_test, model.predict(X_test))\n",
    "print(\"Training time (snapml): %6.2f seconds\" % (t_fit_snapml))\n",
    "print(\"Accuracy score (snapml): %.4f\" % (score_snapml))"
   ]
  },
  {
   "cell_type": "code",
   "execution_count": 13,
   "metadata": {
    "execution": {
     "iopub.execute_input": "2021-03-01T19:02:08.328590Z",
     "iopub.status.busy": "2021-03-01T19:02:08.327884Z",
     "iopub.status.idle": "2021-03-01T19:02:08.330138Z",
     "shell.execute_reply": "2021-03-01T19:02:08.330477Z"
    }
   },
   "outputs": [
    {
     "name": "stdout",
     "output_type": "stream",
     "text": [
      "Speed-up:                4.7 x\n",
      "Relative diff. in score: -0.0016\n"
     ]
    }
   ],
   "source": [
    "speed_up = t_fit_sklearn/t_fit_snapml\n",
    "score_diff = (score_snapml-score_sklearn)/score_sklearn\n",
    "print(\"Speed-up:                %.1f x\" % (speed_up))\n",
    "print(\"Relative diff. in score: %.4f\" % (score_diff))"
   ]
  },
  {
   "cell_type": "markdown",
   "metadata": {},
   "source": [
    "## Disclaimer\n",
    "\n",
    "Performance results always depend on the hardware and software environment. \n",
    "\n",
    "Information regarding the environment that was used to run this notebook are provided below:"
   ]
  },
  {
   "cell_type": "code",
   "execution_count": 14,
   "metadata": {
    "execution": {
     "iopub.execute_input": "2021-03-01T19:02:08.334387Z",
     "iopub.status.busy": "2021-03-01T19:02:08.333806Z",
     "iopub.status.idle": "2021-03-01T19:02:08.354757Z",
     "shell.execute_reply": "2021-03-01T19:02:08.355111Z"
    }
   },
   "outputs": [
    {
     "name": "stdout",
     "output_type": "stream",
     "text": [
      "       platform: Linux-4.15.0-140-generic-x86_64-with-debian-buster-sid\n",
      "      cpu_count: 16\n",
      "   cpu_freq_min: 1200.0\n",
      "   cpu_freq_max: 3200.0\n",
      "   total_memory: 62.82522201538086\n",
      " snapml_version: 1.7.1\n",
      "sklearn_version: 0.24.1\n"
     ]
    }
   ],
   "source": [
    "import utils\n",
    "environment = utils.get_environment()\n",
    "for k,v in environment.items():\n",
    "    print(\"%15s: %s\" % (k, v))"
   ]
  },
  {
   "cell_type": "markdown",
   "metadata": {},
   "source": [
    "## Record Statistics\n",
    "\n",
    "Finally, we record the enviroment and performance statistics for analysis outside of this standalone notebook."
   ]
  },
  {
   "cell_type": "code",
   "execution_count": 16,
   "metadata": {
    "execution": {
     "iopub.execute_input": "2021-03-01T19:02:08.360111Z",
     "iopub.status.busy": "2021-03-01T19:02:08.359469Z",
     "iopub.status.idle": "2021-03-01T19:02:09.588904Z",
     "shell.execute_reply": "2021-03-01T19:02:09.589250Z"
    }
   },
   "outputs": [
    {
     "data": {
      "application/scrapbook.scrap.json+json": {
       "data": {
        "cpu_count": 16,
        "cpu_freq_max": 3200,
        "cpu_freq_min": 1200,
        "dataset": "Allstate",
        "model": "SupportVectorMachine",
        "n_classes": 2,
        "n_examples_test": 3955287,
        "n_examples_train": 9229003,
        "n_features": 87,
        "platform": "Linux-4.15.0-140-generic-x86_64-with-debian-buster-sid",
        "score": "accuracy_score",
        "score_diff": -0.001569274803752073,
        "score_sklearn": 0.7850899315270927,
        "score_snapml": 0.7838579096788678,
        "sklearn_version": "0.24.1",
        "snapml_version": "1.7.1",
        "speed_up": 4.69584015614651,
        "t_fit_sklearn": 130.40740180015564,
        "t_fit_snapml": 27.770834922790527,
        "total_memory": 62.82522201538086
       },
       "encoder": "json",
       "name": "result",
       "version": 1
      }
     },
     "metadata": {
      "scrapbook": {
       "data": true,
       "display": false,
       "name": "result"
      }
     },
     "output_type": "display_data"
    }
   ],
   "source": [
    "import scrapbook as sb\n",
    "sb.glue(\"result\", {\n",
    "    'dataset': dataset.name,\n",
    "    'n_examples_train': X_train.shape[0],\n",
    "    'n_examples_test': X_test.shape[0],\n",
    "    'n_features': X_train.shape[1],\n",
    "    'n_classes': len(np.unique(y_train)),\n",
    "    'model': type(model).__name__,\n",
    "    'score': score.__name__,\n",
    "    't_fit_sklearn': t_fit_sklearn,\n",
    "    'score_sklearn': score_sklearn,\n",
    "    't_fit_snapml': t_fit_snapml,\n",
    "    'score_snapml': score_snapml,\n",
    "    'score_diff': score_diff,\n",
    "    'speed_up': speed_up,\n",
    "    **environment,\n",
    "})"
   ]
  }
 ],
 "metadata": {
  "kernelspec": {
   "display_name": "Python 3",
   "language": "python",
   "name": "python3"
  },
  "language_info": {
   "codemirror_mode": {
    "name": "ipython",
    "version": 3
   },
   "file_extension": ".py",
   "mimetype": "text/x-python",
   "name": "python",
   "nbconvert_exporter": "python",
   "pygments_lexer": "ipython3",
   "version": "3.7.10"
  }
 },
 "nbformat": 4,
 "nbformat_minor": 4
}
