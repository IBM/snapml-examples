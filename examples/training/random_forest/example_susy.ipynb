{
 "cells": [
  {
   "cell_type": "markdown",
   "metadata": {},
   "source": [
    "```\n",
    "Copyright 2021 IBM Corporation\n",
    "\n",
    "Licensed under the Apache License, Version 2.0 (the \"License\");\n",
    "you may not use this file except in compliance with the License.\n",
    "You may obtain a copy of the License at\n",
    "\n",
    "     http://www.apache.org/licenses/LICENSE-2.0\n",
    "\n",
    "Unless required by applicable law or agreed to in writing, software\n",
    "distributed under the License is distributed on an \"AS IS\" BASIS,\n",
    "WITHOUT WARRANTIES OR CONDITIONS OF ANY KIND, either express or implied.\n",
    "See the License for the specific language governing permissions and\n",
    "limitations under the License.\n",
    "```"
   ]
  },
  {
   "cell_type": "markdown",
   "metadata": {},
   "source": [
    "# Random Forest on SUSY Dataset\n",
    "\n",
    "## Background \n",
    "\n",
    "This is a classification problem to distinguish between a signal process which produces supersymmetric particles and a background process which does not.\n",
    "\n",
    "## Source\n",
    "\n",
    "Daniel Whiteson daniel '@' uci.edu, Assistant Professor, Physics & Astronomy, Univ. of California Irvine.\n",
    "\n",
    "In this example, we download the dataset from the [UCI Machine Learning Repository](https://archive.ics.uci.edu/ml/datasets.php).\n",
    "\n",
    "## Goal\n",
    "The goal of this notebook is to illustrate how Snap ML can accelerate training of a random forest model on this dataset.\n",
    "\n",
    "## Code"
   ]
  },
  {
   "cell_type": "code",
   "execution_count": 2,
   "metadata": {
    "execution": {
     "iopub.execute_input": "2021-03-23T10:47:55.645577Z",
     "iopub.status.busy": "2021-03-23T10:47:55.644658Z",
     "iopub.status.idle": "2021-03-23T10:47:55.657659Z",
     "shell.execute_reply": "2021-03-23T10:47:55.657031Z"
    }
   },
   "outputs": [
    {
     "name": "stdout",
     "output_type": "stream",
     "text": [
      "/home/aan/snapml-examples-2/snapml-examples/examples\n"
     ]
    }
   ],
   "source": [
    "cd ../../"
   ]
  },
  {
   "cell_type": "code",
   "execution_count": 3,
   "metadata": {
    "execution": {
     "iopub.execute_input": "2021-03-23T10:47:55.662255Z",
     "iopub.status.busy": "2021-03-23T10:47:55.661689Z",
     "iopub.status.idle": "2021-03-23T10:47:55.664753Z",
     "shell.execute_reply": "2021-03-23T10:47:55.665321Z"
    }
   },
   "outputs": [],
   "source": [
    "CACHE_DIR='cache-dir'"
   ]
  },
  {
   "cell_type": "code",
   "execution_count": 4,
   "metadata": {
    "execution": {
     "iopub.execute_input": "2021-03-23T10:47:55.671001Z",
     "iopub.status.busy": "2021-03-23T10:47:55.670291Z",
     "iopub.status.idle": "2021-03-23T10:47:56.341829Z",
     "shell.execute_reply": "2021-03-23T10:47:56.340983Z"
    }
   },
   "outputs": [],
   "source": [
    "import numpy as np\n",
    "import time\n",
    "from datasets import Susy\n",
    "from sklearn.ensemble import RandomForestClassifier\n",
    "from snapml import RandomForestClassifier as SnapRandomForestClassifier\n",
    "from sklearn.metrics import roc_auc_score as score"
   ]
  },
  {
   "cell_type": "code",
   "execution_count": 5,
   "metadata": {
    "execution": {
     "iopub.execute_input": "2021-03-23T10:47:56.345728Z",
     "iopub.status.busy": "2021-03-23T10:47:56.345256Z",
     "iopub.status.idle": "2021-03-23T10:47:59.967892Z",
     "shell.execute_reply": "2021-03-23T10:47:59.966868Z"
    }
   },
   "outputs": [
    {
     "name": "stdout",
     "output_type": "stream",
     "text": [
      "Reading binary Susy dataset (cache) from disk.\n"
     ]
    }
   ],
   "source": [
    "dataset = Susy(cache_dir=CACHE_DIR)\n",
    "X_train, X_test, y_train, y_test = dataset.get_train_test_split()"
   ]
  },
  {
   "cell_type": "code",
   "execution_count": 5,
   "metadata": {
    "execution": {
     "iopub.execute_input": "2021-03-23T10:47:59.975048Z",
     "iopub.status.busy": "2021-03-23T10:47:59.973909Z",
     "iopub.status.idle": "2021-03-23T10:48:00.082705Z",
     "shell.execute_reply": "2021-03-23T10:48:00.081802Z"
    }
   },
   "outputs": [
    {
     "name": "stdout",
     "output_type": "stream",
     "text": [
      "Number of examples: 3750000\n",
      "Number of features: 18\n",
      "Number of classes:  2\n"
     ]
    }
   ],
   "source": [
    "print(\"Number of examples: %d\" % (X_train.shape[0]))\n",
    "print(\"Number of features: %d\" % (X_train.shape[1]))\n",
    "print(\"Number of classes:  %d\" % (len(np.unique(y_train))))"
   ]
  },
  {
   "cell_type": "code",
   "execution_count": 6,
   "metadata": {
    "execution": {
     "iopub.execute_input": "2021-03-23T10:48:00.088112Z",
     "iopub.status.busy": "2021-03-23T10:48:00.087042Z",
     "iopub.status.idle": "2021-03-23T10:48:00.188852Z",
     "shell.execute_reply": "2021-03-23T10:48:00.189740Z"
    }
   },
   "outputs": [
    {
     "name": "stdout",
     "output_type": "stream",
     "text": [
      " 54.25 % of the training transactions belong to class 0\n",
      " 45.75 % of the training transactions belong to class 1\n"
     ]
    }
   ],
   "source": [
    "labels, sizes = np.unique(y_train, return_counts=True)\n",
    "print(\"%6.2f %% of the training transactions belong to class 0\" % (sizes[0]*100.0/(sizes[0]+sizes[1])))\n",
    "print(\"%6.2f %% of the training transactions belong to class 1\" % (sizes[1]*100.0/(sizes[0]+sizes[1])))"
   ]
  },
  {
   "cell_type": "code",
   "execution_count": 7,
   "metadata": {
    "execution": {
     "iopub.execute_input": "2021-03-23T10:48:00.195544Z",
     "iopub.status.busy": "2021-03-23T10:48:00.194475Z",
     "iopub.status.idle": "2021-03-23T10:54:29.933369Z",
     "shell.execute_reply": "2021-03-23T10:54:29.932312Z"
    }
   },
   "outputs": [
    {
     "name": "stdout",
     "output_type": "stream",
     "text": [
      "Training time (sklearn): 419.62 seconds\n",
      "ROC AUC score (sklearn): 0.8628\n"
     ]
    }
   ],
   "source": [
    "model = RandomForestClassifier(max_depth=8, n_estimators=100, n_jobs=4, random_state=42)\n",
    "t0 = time.time()\n",
    "model.fit(X_train, y_train)\n",
    "t_fit_sklearn = time.time()-t0\n",
    "score_sklearn = score(y_test, model.predict_proba(X_test)[:,1])\n",
    "print(\"Training time (sklearn): %6.2f seconds\" % (t_fit_sklearn))\n",
    "print(\"ROC AUC score (sklearn): %.4f\" % (score_sklearn))"
   ]
  },
  {
   "cell_type": "code",
   "execution_count": 8,
   "metadata": {
    "execution": {
     "iopub.execute_input": "2021-03-23T10:54:29.939032Z",
     "iopub.status.busy": "2021-03-23T10:54:29.937969Z",
     "iopub.status.idle": "2021-03-23T10:55:16.101212Z",
     "shell.execute_reply": "2021-03-23T10:55:16.102039Z"
    }
   },
   "outputs": [
    {
     "name": "stdout",
     "output_type": "stream",
     "text": [
      "Training time (snapml):  46.82 seconds\n",
      "ROC AUC score (snapml): 0.8629\n"
     ]
    }
   ],
   "source": [
    "model = SnapRandomForestClassifier(max_depth=8, n_estimators=100, n_jobs=4, random_state=42, use_histograms=True)\n",
    "t0 = time.time()\n",
    "model.fit(X_train, y_train)\n",
    "t_fit_snapml = time.time()-t0\n",
    "score_snapml = score(y_test, model.predict_proba(X_test)[:,1])\n",
    "print(\"Training time (snapml): %6.2f seconds\" % (t_fit_snapml))\n",
    "print(\"ROC AUC score (snapml): %.4f\" % (score_snapml))"
   ]
  },
  {
   "cell_type": "code",
   "execution_count": 9,
   "metadata": {
    "execution": {
     "iopub.execute_input": "2021-03-23T10:55:16.106873Z",
     "iopub.status.busy": "2021-03-23T10:55:16.105875Z",
     "iopub.status.idle": "2021-03-23T10:55:16.110074Z",
     "shell.execute_reply": "2021-03-23T10:55:16.109194Z"
    }
   },
   "outputs": [
    {
     "name": "stdout",
     "output_type": "stream",
     "text": [
      "Speed-up:                9.0 x\n",
      "Relative diff. in score: 0.0001\n"
     ]
    }
   ],
   "source": [
    "speed_up = t_fit_sklearn/t_fit_snapml\n",
    "score_diff = (score_snapml-score_sklearn)/score_sklearn\n",
    "print(\"Speed-up:                %.1f x\" % (speed_up))\n",
    "print(\"Relative diff. in score: %.4f\" % (score_diff))"
   ]
  },
  {
   "cell_type": "markdown",
   "metadata": {},
   "source": [
    "## Disclaimer\n",
    "\n",
    "Performance results always depend on the hardware and software environment. \n",
    "\n",
    "Information regarding the environment that was used to run this notebook are provided below:"
   ]
  },
  {
   "cell_type": "code",
   "execution_count": 10,
   "metadata": {
    "execution": {
     "iopub.execute_input": "2021-03-23T10:55:16.113800Z",
     "iopub.status.busy": "2021-03-23T10:55:16.113351Z",
     "iopub.status.idle": "2021-03-23T10:55:16.471304Z",
     "shell.execute_reply": "2021-03-23T10:55:16.470157Z"
    }
   },
   "outputs": [
    {
     "name": "stdout",
     "output_type": "stream",
     "text": [
      "       platform: Linux-4.15.0-140-generic-x86_64-with-debian-buster-sid\n",
      "      cpu_count: 16\n",
      "   cpu_freq_min: 1200.0\n",
      "   cpu_freq_max: 3200.0\n",
      "   total_memory: 62.82522201538086\n",
      " snapml_version: 1.7.1\n",
      "sklearn_version: 0.24.1\n"
     ]
    }
   ],
   "source": [
    "import utils\n",
    "environment = utils.get_environment()\n",
    "for k,v in environment.items():\n",
    "    print(\"%15s: %s\" % (k, v))"
   ]
  },
  {
   "cell_type": "markdown",
   "metadata": {},
   "source": [
    "## Record Statistics\n",
    "\n",
    "Finally, we record the enviroment and performance statistics for analysis outside of this standalone notebook."
   ]
  },
  {
   "cell_type": "code",
   "execution_count": 12,
   "metadata": {
    "execution": {
     "iopub.execute_input": "2021-03-23T10:55:16.480659Z",
     "iopub.status.busy": "2021-03-23T10:55:16.479508Z",
     "iopub.status.idle": "2021-03-23T10:55:16.732516Z",
     "shell.execute_reply": "2021-03-23T10:55:16.731634Z"
    }
   },
   "outputs": [
    {
     "data": {
      "application/scrapbook.scrap.json+json": {
       "data": {
        "cpu_count": 16,
        "cpu_freq_max": 3200,
        "cpu_freq_min": 1200,
        "dataset": "Susy",
        "model": "RandomForestClassifier",
        "n_classes": 2,
        "n_examples_test": 1250000,
        "n_examples_train": 3750000,
        "n_features": 18,
        "platform": "Linux-4.15.0-140-generic-x86_64-with-debian-buster-sid",
        "score": "roc_auc_score",
        "score_diff": 0.0001279313566007275,
        "score_sklearn": 0.8628286239041221,
        "score_snapml": 0.8629390067404921,
        "sklearn_version": "0.24.1",
        "snapml_version": "1.7.1",
        "speed_up": 8.961826417390785,
        "t_fit_sklearn": 419.6244161128998,
        "t_fit_snapml": 46.82353758811951,
        "total_memory": 62.82522201538086
       },
       "encoder": "json",
       "name": "result",
       "version": 1
      }
     },
     "metadata": {
      "scrapbook": {
       "data": true,
       "display": false,
       "name": "result"
      }
     },
     "output_type": "display_data"
    }
   ],
   "source": [
    "import scrapbook as sb\n",
    "sb.glue(\"result\", {\n",
    "    'dataset': dataset.name,\n",
    "    'n_examples_train': X_train.shape[0],\n",
    "    'n_examples_test': X_test.shape[0],\n",
    "    'n_features': X_train.shape[1],\n",
    "    'n_classes': len(np.unique(y_train)),\n",
    "    'model': type(model).__name__,\n",
    "    'score': score.__name__,\n",
    "    't_fit_sklearn': t_fit_sklearn,\n",
    "    'score_sklearn': score_sklearn,\n",
    "    't_fit_snapml': t_fit_snapml,\n",
    "    'score_snapml': score_snapml,\n",
    "    'score_diff': score_diff,\n",
    "    'speed_up': speed_up,\n",
    "    **environment,\n",
    "})"
   ]
  }
 ],
 "metadata": {
  "kernelspec": {
   "display_name": "Python 3",
   "language": "python",
   "name": "python3"
  },
  "language_info": {
   "codemirror_mode": {
    "name": "ipython",
    "version": 3
   },
   "file_extension": ".py",
   "mimetype": "text/x-python",
   "name": "python",
   "nbconvert_exporter": "python",
   "pygments_lexer": "ipython3",
   "version": "3.7.10"
  }
 },
 "nbformat": 4,
 "nbformat_minor": 4
}
