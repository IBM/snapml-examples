{
 "cells": [
  {
   "cell_type": "markdown",
   "metadata": {},
   "source": [
    "```\n",
    "Copyright 2021 IBM Corporation\n",
    "\n",
    "Licensed under the Apache License, Version 2.0 (the \"License\");\n",
    "you may not use this file except in compliance with the License.\n",
    "You may obtain a copy of the License at\n",
    "\n",
    "     http://www.apache.org/licenses/LICENSE-2.0\n",
    "\n",
    "Unless required by applicable law or agreed to in writing, software\n",
    "distributed under the License is distributed on an \"AS IS\" BASIS,\n",
    "WITHOUT WARRANTIES OR CONDITIONS OF ANY KIND, either express or implied.\n",
    "See the License for the specific language governing permissions and\n",
    "limitations under the License.\n",
    "```"
   ]
  },
  {
   "cell_type": "markdown",
   "metadata": {},
   "source": [
    "# Decision Tree on Allstate Dataset\n",
    "\n",
    "## Background \n",
    "\n",
    "The goal of this competition is to predict Bodily Injury Liability Insurance claim payments based on the characteristics of the insured’s vehicle. \n",
    "\n",
    "## Source\n",
    "\n",
    "The raw dataset can be obtained directly from the [Allstate Claim Prediction Challenge](https://www.kaggle.com/c/ClaimPredictionChallenge).\n",
    "\n",
    "In this example, we download the dataset directly from Kaggle using their API. In order for to work work, you must:\n",
    "1. Login into Kaggle and accept the [competition rules](https://www.kaggle.com/c/ClaimPredictionChallenge/rules).\n",
    "2. Folow [these instructions](https://www.kaggle.com/docs/api) to install your API token on your machine.\n",
    "\n",
    "## Goal\n",
    "The goal of this notebook is to illustrate how Snap ML can accelerate training of a decision tree model on this dataset.\n",
    "\n",
    "## Code"
   ]
  },
  {
   "cell_type": "code",
   "execution_count": 1,
   "metadata": {
    "execution": {
     "iopub.execute_input": "2021-12-03T11:14:12.859353Z",
     "iopub.status.busy": "2021-12-03T11:14:12.854868Z",
     "iopub.status.idle": "2021-12-03T11:14:12.868367Z",
     "shell.execute_reply": "2021-12-03T11:14:12.867302Z"
    }
   },
   "outputs": [
    {
     "name": "stdout",
     "output_type": "stream",
     "text": [
      "/localhome/tpa/snapml-examples/examples\n"
     ]
    }
   ],
   "source": [
    "cd ../../"
   ]
  },
  {
   "cell_type": "code",
   "execution_count": 2,
   "metadata": {
    "execution": {
     "iopub.execute_input": "2021-12-03T11:14:12.873850Z",
     "iopub.status.busy": "2021-12-03T11:14:12.872943Z",
     "iopub.status.idle": "2021-12-03T11:14:12.876750Z",
     "shell.execute_reply": "2021-12-03T11:14:12.875940Z"
    }
   },
   "outputs": [],
   "source": [
    "CACHE_DIR='cache-dir'"
   ]
  },
  {
   "cell_type": "code",
   "execution_count": 3,
   "metadata": {
    "execution": {
     "iopub.execute_input": "2021-12-03T11:14:12.883917Z",
     "iopub.status.busy": "2021-12-03T11:14:12.883021Z",
     "iopub.status.idle": "2021-12-03T11:14:13.690043Z",
     "shell.execute_reply": "2021-12-03T11:14:13.688584Z"
    }
   },
   "outputs": [],
   "source": [
    "import numpy as np\n",
    "import time\n",
    "from datasets import Allstate\n",
    "from sklearn.tree import DecisionTreeClassifier\n",
    "from snapml import DecisionTreeClassifier as SnapDecisionTreeClassifier\n",
    "from sklearn.metrics import roc_auc_score as score"
   ]
  },
  {
   "cell_type": "code",
   "execution_count": 4,
   "metadata": {
    "execution": {
     "iopub.execute_input": "2021-12-03T11:14:13.698810Z",
     "iopub.status.busy": "2021-12-03T11:14:13.697324Z",
     "iopub.status.idle": "2021-12-03T11:14:15.294128Z",
     "shell.execute_reply": "2021-12-03T11:14:15.292741Z"
    }
   },
   "outputs": [
    {
     "name": "stdout",
     "output_type": "stream",
     "text": [
      "Reading binary Allstate dataset (cache) from disk.\n"
     ]
    }
   ],
   "source": [
    "dataset = Allstate(cache_dir=CACHE_DIR)\n",
    "X_train, X_test, y_train, y_test = dataset.get_train_test_split()"
   ]
  },
  {
   "cell_type": "code",
   "execution_count": 5,
   "metadata": {
    "execution": {
     "iopub.execute_input": "2021-12-03T11:14:15.302481Z",
     "iopub.status.busy": "2021-12-03T11:14:15.300993Z",
     "iopub.status.idle": "2021-12-03T11:14:15.503663Z",
     "shell.execute_reply": "2021-12-03T11:14:15.504833Z"
    }
   },
   "outputs": [
    {
     "name": "stdout",
     "output_type": "stream",
     "text": [
      "Number of examples: 9229003\n",
      "Number of features: 87\n",
      "Number of classes:  2\n"
     ]
    }
   ],
   "source": [
    "print(\"Number of examples: %d\" % (X_train.shape[0]))\n",
    "print(\"Number of features: %d\" % (X_train.shape[1]))\n",
    "print(\"Number of classes:  %d\" % (len(np.unique(y_train))))"
   ]
  },
  {
   "cell_type": "code",
   "execution_count": 6,
   "metadata": {
    "execution": {
     "iopub.execute_input": "2021-12-03T11:14:15.513423Z",
     "iopub.status.busy": "2021-12-03T11:14:15.511949Z",
     "iopub.status.idle": "2021-12-03T11:19:49.032920Z",
     "shell.execute_reply": "2021-12-03T11:19:49.031374Z"
    }
   },
   "outputs": [
    {
     "name": "stdout",
     "output_type": "stream",
     "text": [
      "Training time (sklearn): 332.11 seconds\n",
      "ROC AUC score (sklearn): 0.5900\n"
     ]
    }
   ],
   "source": [
    "model = DecisionTreeClassifier(max_depth=8)\n",
    "t0 = time.time()\n",
    "model.fit(X_train, y_train)\n",
    "t_fit_sklearn = time.time()-t0\n",
    "score_sklearn = score(y_test, model.predict_proba(X_test)[:,1])\n",
    "print(\"Training time (sklearn): %6.2f seconds\" % (t_fit_sklearn))\n",
    "print(\"ROC AUC score (sklearn): %.4f\" % (score_sklearn))"
   ]
  },
  {
   "cell_type": "code",
   "execution_count": 7,
   "metadata": {
    "execution": {
     "iopub.execute_input": "2021-12-03T11:19:49.044231Z",
     "iopub.status.busy": "2021-12-03T11:19:49.042667Z",
     "iopub.status.idle": "2021-12-03T11:20:17.283227Z",
     "shell.execute_reply": "2021-12-03T11:20:17.282889Z"
    }
   },
   "outputs": [
    {
     "name": "stdout",
     "output_type": "stream",
     "text": [
      "Training time (snapml):  26.69 seconds\n",
      "ROC AUC score (snapml): 0.5929\n"
     ]
    }
   ],
   "source": [
    "model = SnapDecisionTreeClassifier(max_depth=8, n_jobs=4)\n",
    "t0 = time.time()\n",
    "model.fit(X_train, y_train)\n",
    "t_fit_snapml = time.time()-t0\n",
    "score_snapml = score(y_test, model.predict_proba(X_test)[:,1])\n",
    "print(\"Training time (snapml): %6.2f seconds\" % (t_fit_snapml))\n",
    "print(\"ROC AUC score (snapml): %.4f\" % (score_snapml))"
   ]
  },
  {
   "cell_type": "code",
   "execution_count": 8,
   "metadata": {
    "execution": {
     "iopub.execute_input": "2021-12-03T11:20:17.292448Z",
     "iopub.status.busy": "2021-12-03T11:20:17.291062Z",
     "iopub.status.idle": "2021-12-03T11:20:17.295747Z",
     "shell.execute_reply": "2021-12-03T11:20:17.296878Z"
    }
   },
   "outputs": [
    {
     "name": "stdout",
     "output_type": "stream",
     "text": [
      "Speed-up:                12.4 x\n",
      "Relative diff. in score: 0.0050\n"
     ]
    }
   ],
   "source": [
    "speed_up = t_fit_sklearn/t_fit_snapml\n",
    "score_diff = (score_snapml-score_sklearn)/score_sklearn\n",
    "print(\"Speed-up:                %.1f x\" % (speed_up))\n",
    "print(\"Relative diff. in score: %.4f\" % (score_diff))"
   ]
  },
  {
   "cell_type": "markdown",
   "metadata": {},
   "source": [
    "## Disclaimer\n",
    "\n",
    "Performance results always depend on the hardware and software environment. \n",
    "\n",
    "Information regarding the environment that was used to run this notebook are provided below:"
   ]
  },
  {
   "cell_type": "code",
   "execution_count": 9,
   "metadata": {
    "execution": {
     "iopub.execute_input": "2021-12-03T11:20:17.303986Z",
     "iopub.status.busy": "2021-12-03T11:20:17.303328Z",
     "iopub.status.idle": "2021-12-03T11:20:18.123171Z",
     "shell.execute_reply": "2021-12-03T11:20:18.121764Z"
    }
   },
   "outputs": [
    {
     "name": "stdout",
     "output_type": "stream",
     "text": [
      "       platform: Linux-4.15.0-151-generic-x86_64-with-glibc2.10\n",
      "      cpu_count: 40\n",
      "   cpu_freq_min: 800.0\n",
      "   cpu_freq_max: 2101.0\n",
      "   total_memory: 250.58893203735352\n",
      " snapml_version: 1.8.1\n",
      "sklearn_version: 1.0.1\n",
      "xgboost_version: 1.3.3\n",
      "lightgbm_version: 3.1.1\n"
     ]
    }
   ],
   "source": [
    "import utils\n",
    "environment = utils.get_environment()\n",
    "for k,v in environment.items():\n",
    "    print(\"%15s: %s\" % (k, v))"
   ]
  },
  {
   "cell_type": "markdown",
   "metadata": {},
   "source": [
    "## Record Statistics\n",
    "\n",
    "Finally, we record the enviroment and performance statistics for analysis outside of this standalone notebook."
   ]
  },
  {
   "cell_type": "code",
   "execution_count": 10,
   "metadata": {
    "execution": {
     "iopub.execute_input": "2021-12-03T11:20:18.133565Z",
     "iopub.status.busy": "2021-12-03T11:20:18.131777Z",
     "iopub.status.idle": "2021-12-03T11:20:18.628099Z",
     "shell.execute_reply": "2021-12-03T11:20:18.626830Z"
    }
   },
   "outputs": [
    {
     "name": "stderr",
     "output_type": "stream",
     "text": [
      "/localhome/tpa/anaconda3/envs/snapenv/lib/python3.8/site-packages/papermill/iorw.py:50: FutureWarning: pyarrow.HadoopFileSystem is deprecated as of 2.0.0, please use pyarrow.fs.HadoopFileSystem instead.\n",
      "  from pyarrow import HadoopFileSystem\n"
     ]
    },
    {
     "data": {
      "application/scrapbook.scrap.json+json": {
       "data": {
        "cpu_count": 40,
        "cpu_freq_max": 2101.0,
        "cpu_freq_min": 800.0,
        "dataset": "Allstate",
        "lightgbm_version": "3.1.1",
        "model": "DecisionTreeClassifier",
        "n_classes": 2,
        "n_examples_test": 3955287,
        "n_examples_train": 9229003,
        "n_features": 87,
        "platform": "Linux-4.15.0-151-generic-x86_64-with-glibc2.10",
        "score": "roc_auc_score",
        "score_diff": 0.00496786773979736,
        "score_sklearn": 0.5899777695334442,
        "score_snapml": 0.592908701061907,
        "sklearn_version": "1.0.1",
        "snapml_version": "1.8.1",
        "speed_up": 12.445655528734179,
        "t_fit_sklearn": 332.11299657821655,
        "t_fit_snapml": 26.685054540634155,
        "total_memory": 250.58893203735352,
        "xgboost_version": "1.3.3"
       },
       "encoder": "json",
       "name": "result",
       "version": 1
      }
     },
     "metadata": {
      "scrapbook": {
       "data": true,
       "display": false,
       "name": "result"
      }
     },
     "output_type": "display_data"
    }
   ],
   "source": [
    "import scrapbook as sb\n",
    "sb.glue(\"result\", {\n",
    "    'dataset': dataset.name,\n",
    "    'n_examples_train': X_train.shape[0],\n",
    "    'n_examples_test': X_test.shape[0],\n",
    "    'n_features': X_train.shape[1],\n",
    "    'n_classes': len(np.unique(y_train)),\n",
    "    'model': type(model).__name__,\n",
    "    'score': score.__name__,\n",
    "    't_fit_sklearn': t_fit_sklearn,\n",
    "    'score_sklearn': score_sklearn,\n",
    "    't_fit_snapml': t_fit_snapml,\n",
    "    'score_snapml': score_snapml,\n",
    "    'score_diff': score_diff,\n",
    "    'speed_up': speed_up,\n",
    "    **environment,\n",
    "})"
   ]
  }
 ],
 "metadata": {
  "kernelspec": {
   "display_name": "Python 3",
   "language": "python",
   "name": "python3"
  },
  "language_info": {
   "codemirror_mode": {
    "name": "ipython",
    "version": 3
   },
   "file_extension": ".py",
   "mimetype": "text/x-python",
   "name": "python",
   "nbconvert_exporter": "python",
   "pygments_lexer": "ipython3",
   "version": "3.8.0"
  }
 },
 "nbformat": 4,
 "nbformat_minor": 4
}
