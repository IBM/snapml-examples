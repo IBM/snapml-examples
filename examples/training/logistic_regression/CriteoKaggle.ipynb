{
 "cells": [
  {
   "cell_type": "code",
   "execution_count": 1,
   "metadata": {},
   "outputs": [
    {
     "name": "stdout",
     "output_type": "stream",
     "text": [
      "/Users/tpa/Code/snapml-examples/examples\n"
     ]
    }
   ],
   "source": [
    "cd ../../"
   ]
  },
  {
   "cell_type": "code",
   "execution_count": 2,
   "metadata": {},
   "outputs": [],
   "source": [
    "from datasets import *"
   ]
  },
  {
   "cell_type": "code",
   "execution_count": 3,
   "metadata": {},
   "outputs": [],
   "source": [
    "from sklearn.linear_model import LogisticRegression\n",
    "from snapml import LogisticRegression as SnapLogisticRegression\n",
    "import time\n",
    "from sklearn.metrics import roc_auc_score\n",
    "import pandas as pd"
   ]
  },
  {
   "cell_type": "code",
   "execution_count": 7,
   "metadata": {},
   "outputs": [
    {
     "name": "stdout",
     "output_type": "stream",
     "text": [
      "       n_samples  n_features  t_fit_sklearn  score_sklearn  t_fit_snapml  \\\n",
      "Higgs   100000.0        28.0       2.043509       0.666532      0.068055   \n",
      "\n",
      "       score_snapml   speed_up  score_diff  \n",
      "Higgs       0.66682  30.027249    0.000432  \n",
      "       n_samples  n_features  t_fit_sklearn  score_sklearn  t_fit_snapml  \\\n",
      "Higgs   100000.0        28.0       2.043509       0.666532      0.068055   \n",
      "Avazu   100000.0   1000000.0      11.324797       0.706861      0.245819   \n",
      "\n",
      "       score_snapml   speed_up  score_diff  \n",
      "Higgs      0.666820  30.027249    0.000432  \n",
      "Avazu      0.709019  46.069639    0.003054  \n"
     ]
    }
   ],
   "source": [
    "nrows = 100000\n",
    "\n",
    "df = pd.DataFrame(columns=['n_samples', 'n_features', 't_fit_sklearn', 'score_sklearn', \n",
    "                           't_fit_snapml', 'score_snapml', 'speed_up', 'score_diff'])\n",
    "\n",
    "for Dataset in [Higgs, Avazu]:\n",
    "    \n",
    "    dataset = Dataset('cache-dir')\n",
    "    \n",
    "    res = pd.Series(name=dataset.name, dtype='float64')\n",
    "    \n",
    "    X_train, X_test, y_train, y_test = dataset.get_train_test_split()\n",
    "    X_train = X_train[:nrows, :]\n",
    "    y_train = y_train[:nrows]\n",
    "    \n",
    "    res['n_samples'] = X_train.shape[0]\n",
    "    res['n_features'] = X_train.shape[1]\n",
    "    \n",
    "    # scikit-learn\n",
    "    lr = LogisticRegression(fit_intercept=False, n_jobs=4, class_weight='balanced')\n",
    "    t0 = time.time()\n",
    "    lr.fit(X_train, y_train)\n",
    "    res['t_fit_sklearn'] = time.time()-t0\n",
    "    res['score_sklearn'] = roc_auc_score(y_test, lr.predict_proba(X_test)[:,1])\n",
    "    \n",
    "    # snapml\n",
    "    lr = SnapLogisticRegression(fit_intercept=False, n_jobs=4, class_weight='balanced')\n",
    "    t0 = time.time()\n",
    "    lr.fit(X_train, y_train)\n",
    "    res['t_fit_snapml'] = time.time()-t0\n",
    "    res['score_snapml'] = roc_auc_score(y_test, lr.predict_proba(X_test)[:,1])\n",
    "    res['speed_up'] = res['t_fit_sklearn']/res['t_fit_snapml']\n",
    "    res['score_diff'] = (res['score_snapml']-res['score_sklearn'])/res['score_sklearn']\n",
    "    \n",
    "    df = df.append(res)\n",
    "    print(df)\n"
   ]
  },
  {
   "cell_type": "code",
   "execution_count": null,
   "metadata": {},
   "outputs": [],
   "source": []
  }
 ],
 "metadata": {
  "kernelspec": {
   "display_name": "Python 3",
   "language": "python",
   "name": "python3"
  },
  "language_info": {
   "codemirror_mode": {
    "name": "ipython",
    "version": 3
   },
   "file_extension": ".py",
   "mimetype": "text/x-python",
   "name": "python",
   "nbconvert_exporter": "python",
   "pygments_lexer": "ipython3",
   "version": "3.8.5"
  }
 },
 "nbformat": 4,
 "nbformat_minor": 4
}
