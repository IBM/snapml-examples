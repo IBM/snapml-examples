{
 "cells": [
  {
   "cell_type": "markdown",
   "metadata": {},
   "source": [
    "```\n",
    "Copyright 2021 IBM Corporation\n",
    "\n",
    "Licensed under the Apache License, Version 2.0 (the \"License\");\n",
    "you may not use this file except in compliance with the License.\n",
    "You may obtain a copy of the License at\n",
    "\n",
    "     http://www.apache.org/licenses/LICENSE-2.0\n",
    "\n",
    "Unless required by applicable law or agreed to in writing, software\n",
    "distributed under the License is distributed on an \"AS IS\" BASIS,\n",
    "WITHOUT WARRANTIES OR CONDITIONS OF ANY KIND, either express or implied.\n",
    "See the License for the specific language governing permissions and\n",
    "limitations under the License.\n",
    "```"
   ]
  },
  {
   "cell_type": "markdown",
   "metadata": {},
   "source": [
    "# Support Vector Machine on Avazu Dataset\n",
    "\n",
    "## Background \n",
    "\n",
    "This data is used in a competition on click-through rate prediction jointly hosted by Avazu and Kaggle in 2014. The participants were asked to learn a model from the first 10 days of advertising log, and predict the click probability for the impressions on the 11th day\n",
    "\n",
    "## Source\n",
    "\n",
    "The raw dataset can be obtained directly from the [Kaggle competition](https://www.kaggle.com/c/avazu-ctr-prediction/).\n",
    "\n",
    "In this example, we download the pre-processed dataset from the [LIBSVM dataset repository](https://www.csie.ntu.edu.tw/~cjlin/libsvmtools/datasets/).\n",
    "\n",
    "## Goal\n",
    "The goal of this notebook is to illustrate how Snap ML can accelerate training of a support vector machine model on this dataset.\n",
    "\n",
    "## Code"
   ]
  },
  {
   "cell_type": "code",
   "execution_count": 1,
   "metadata": {
    "execution": {
     "iopub.execute_input": "2022-01-12T18:37:11.041562Z",
     "iopub.status.busy": "2022-01-12T18:37:11.041218Z",
     "iopub.status.idle": "2022-01-12T18:37:11.045340Z",
     "shell.execute_reply": "2022-01-12T18:37:11.044997Z"
    }
   },
   "outputs": [
    {
     "name": "stdout",
     "output_type": "stream",
     "text": [
      "/localhome/tpa/snapml-examples/examples\n"
     ]
    }
   ],
   "source": [
    "cd ../../"
   ]
  },
  {
   "cell_type": "code",
   "execution_count": 2,
   "metadata": {
    "execution": {
     "iopub.execute_input": "2022-01-12T18:37:11.047333Z",
     "iopub.status.busy": "2022-01-12T18:37:11.047005Z",
     "iopub.status.idle": "2022-01-12T18:37:11.048629Z",
     "shell.execute_reply": "2022-01-12T18:37:11.048333Z"
    }
   },
   "outputs": [],
   "source": [
    "CACHE_DIR='cache-dir'"
   ]
  },
  {
   "cell_type": "code",
   "execution_count": 3,
   "metadata": {
    "execution": {
     "iopub.execute_input": "2022-01-12T18:37:11.051147Z",
     "iopub.status.busy": "2022-01-12T18:37:11.050808Z",
     "iopub.status.idle": "2022-01-12T18:37:11.675949Z",
     "shell.execute_reply": "2022-01-12T18:37:11.675586Z"
    }
   },
   "outputs": [],
   "source": [
    "import numpy as np\n",
    "import time\n",
    "from datasets import Avazu\n",
    "from sklearn.svm import LinearSVC\n",
    "from snapml import SupportVectorMachine as SnapSupportVectorMachine\n",
    "from sklearn.metrics import accuracy_score as score"
   ]
  },
  {
   "cell_type": "code",
   "execution_count": 4,
   "metadata": {
    "execution": {
     "iopub.execute_input": "2022-01-12T18:37:11.679434Z",
     "iopub.status.busy": "2022-01-12T18:37:11.679096Z",
     "iopub.status.idle": "2022-01-12T18:37:14.580484Z",
     "shell.execute_reply": "2022-01-12T18:37:14.580828Z"
    }
   },
   "outputs": [
    {
     "name": "stdout",
     "output_type": "stream",
     "text": [
      "Reading binary Avazu dataset (cache) from disk.\n"
     ]
    }
   ],
   "source": [
    "dataset= Avazu(cache_dir=CACHE_DIR)\n",
    "X_train, X_test, y_train, y_test = dataset.get_train_test_split()"
   ]
  },
  {
   "cell_type": "code",
   "execution_count": 5,
   "metadata": {
    "execution": {
     "iopub.execute_input": "2022-01-12T18:37:14.584617Z",
     "iopub.status.busy": "2022-01-12T18:37:14.584267Z",
     "iopub.status.idle": "2022-01-12T18:37:14.880929Z",
     "shell.execute_reply": "2022-01-12T18:37:14.881209Z"
    }
   },
   "outputs": [
    {
     "name": "stdout",
     "output_type": "stream",
     "text": [
      "Number of examples: 12642186\n",
      "Number of features: 1000000\n"
     ]
    },
    {
     "name": "stdout",
     "output_type": "stream",
     "text": [
      "Number of classes:  2\n"
     ]
    }
   ],
   "source": [
    "print(\"Number of examples: %d\" % (X_train.shape[0]))\n",
    "print(\"Number of features: %d\" % (X_train.shape[1]))\n",
    "print(\"Number of classes:  %d\" % (len(np.unique(y_train))))"
   ]
  },
  {
   "cell_type": "code",
   "execution_count": 6,
   "metadata": {
    "execution": {
     "iopub.execute_input": "2022-01-12T18:37:14.885059Z",
     "iopub.status.busy": "2022-01-12T18:37:14.883312Z",
     "iopub.status.idle": "2022-01-12T18:37:15.181120Z",
     "shell.execute_reply": "2022-01-12T18:37:15.181406Z"
    }
   },
   "outputs": [
    {
     "name": "stdout",
     "output_type": "stream",
     "text": [
      " 88.28 % of the training transactions belong to class 0\n",
      " 11.72 % of the training transactions belong to class 1\n"
     ]
    }
   ],
   "source": [
    "# the dataset is highly imbalanced\n",
    "labels, sizes = np.unique(y_train, return_counts=True)\n",
    "print(\"%6.2f %% of the training transactions belong to class 0\" % (sizes[0]*100.0/(sizes[0]+sizes[1])))\n",
    "print(\"%6.2f %% of the training transactions belong to class 1\" % (sizes[1]*100.0/(sizes[0]+sizes[1])))"
   ]
  },
  {
   "cell_type": "code",
   "execution_count": 7,
   "metadata": {
    "execution": {
     "iopub.execute_input": "2022-01-12T18:37:15.185841Z",
     "iopub.status.busy": "2022-01-12T18:37:15.185493Z",
     "iopub.status.idle": "2022-01-12T19:27:46.105558Z",
     "shell.execute_reply": "2022-01-12T19:27:46.105863Z"
    }
   },
   "outputs": [
    {
     "name": "stderr",
     "output_type": "stream",
     "text": [
      "/localhome/tpa/anaconda3/envs/snapenv/lib/python3.8/site-packages/sklearn/svm/_base.py:1206: ConvergenceWarning: Liblinear failed to converge, increase the number of iterations.\n",
      "  warnings.warn(\n"
     ]
    },
    {
     "name": "stdout",
     "output_type": "stream",
     "text": [
      "Training time (sklearn): 3030.64 seconds\n",
      "Accuracy score (sklearn): 0.6477\n"
     ]
    }
   ],
   "source": [
    "model = LinearSVC(loss=\"hinge\", class_weight=\"balanced\", fit_intercept=False, random_state=42)\n",
    "t0 = time.time()\n",
    "model.fit(X_train, y_train)\n",
    "t_fit_sklearn = time.time()-t0\n",
    "score_sklearn = score(y_test, model.predict(X_test))\n",
    "print(\"Training time (sklearn): %6.2f seconds\" % (t_fit_sklearn))\n",
    "print(\"Accuracy score (sklearn): %.4f\" % (score_sklearn))"
   ]
  },
  {
   "cell_type": "code",
   "execution_count": 8,
   "metadata": {
    "execution": {
     "iopub.execute_input": "2022-01-12T19:27:46.110806Z",
     "iopub.status.busy": "2022-01-12T19:27:46.110476Z",
     "iopub.status.idle": "2022-01-12T19:28:05.755075Z",
     "shell.execute_reply": "2022-01-12T19:28:05.755360Z"
    }
   },
   "outputs": [
    {
     "name": "stdout",
     "output_type": "stream",
     "text": [
      "Training time (snapml):  19.33 seconds\n",
      "Accuracy score (snapml): 0.6519\n"
     ]
    }
   ],
   "source": [
    "model = SnapSupportVectorMachine(n_jobs=4, class_weight=\"balanced\", fit_intercept=False, random_state=42)\n",
    "t0 = time.time()\n",
    "model.fit(X_train, y_train)\n",
    "t_fit_snapml = time.time()-t0\n",
    "score_snapml = score(y_test, model.predict(X_test))\n",
    "print(\"Training time (snapml): %6.2f seconds\" % (t_fit_snapml))\n",
    "print(\"Accuracy score (snapml): %.4f\" % (score_snapml))"
   ]
  },
  {
   "cell_type": "code",
   "execution_count": 9,
   "metadata": {
    "execution": {
     "iopub.execute_input": "2022-01-12T19:28:05.759236Z",
     "iopub.status.busy": "2022-01-12T19:28:05.758849Z",
     "iopub.status.idle": "2022-01-12T19:28:05.760370Z",
     "shell.execute_reply": "2022-01-12T19:28:05.760667Z"
    }
   },
   "outputs": [
    {
     "name": "stdout",
     "output_type": "stream",
     "text": [
      "Speed-up:                156.8 x\n",
      "Relative diff. in score: 0.0065\n"
     ]
    }
   ],
   "source": [
    "speed_up = t_fit_sklearn/t_fit_snapml\n",
    "score_diff = (score_snapml-score_sklearn)/score_sklearn\n",
    "print(\"Speed-up:                %.1f x\" % (speed_up))\n",
    "print(\"Relative diff. in score: %.4f\" % (score_diff))"
   ]
  },
  {
   "cell_type": "markdown",
   "metadata": {},
   "source": [
    "## Disclaimer\n",
    "\n",
    "Performance results always depend on the hardware and software environment. \n",
    "\n",
    "Information regarding the environment that was used to run this notebook are provided below:"
   ]
  },
  {
   "cell_type": "code",
   "execution_count": 10,
   "metadata": {
    "execution": {
     "iopub.execute_input": "2022-01-12T19:28:05.763504Z",
     "iopub.status.busy": "2022-01-12T19:28:05.763165Z",
     "iopub.status.idle": "2022-01-12T19:28:06.567089Z",
     "shell.execute_reply": "2022-01-12T19:28:06.567340Z"
    }
   },
   "outputs": [
    {
     "name": "stdout",
     "output_type": "stream",
     "text": [
      "       platform: Linux-4.15.0-151-generic-x86_64-with-glibc2.10\n",
      "      cpu_count: 40\n",
      "   cpu_freq_min: 800.0\n",
      "   cpu_freq_max: 2101.0\n",
      "   total_memory: 250.58893203735352\n",
      " snapml_version: 1.8.3\n",
      "sklearn_version: 1.0.1\n",
      "xgboost_version: 1.3.3\n",
      "lightgbm_version: 3.1.1\n"
     ]
    }
   ],
   "source": [
    "import utils\n",
    "environment = utils.get_environment()\n",
    "for k,v in environment.items():\n",
    "    print(\"%15s: %s\" % (k, v))"
   ]
  },
  {
   "cell_type": "markdown",
   "metadata": {},
   "source": [
    "## Record Statistics\n",
    "\n",
    "Finally, we record the enviroment and performance statistics for analysis outside of this standalone notebook."
   ]
  },
  {
   "cell_type": "code",
   "execution_count": 11,
   "metadata": {
    "execution": {
     "iopub.execute_input": "2022-01-12T19:28:06.571735Z",
     "iopub.status.busy": "2022-01-12T19:28:06.571360Z",
     "iopub.status.idle": "2022-01-12T19:28:06.952858Z",
     "shell.execute_reply": "2022-01-12T19:28:06.953128Z"
    }
   },
   "outputs": [
    {
     "name": "stderr",
     "output_type": "stream",
     "text": [
      "/localhome/tpa/anaconda3/envs/snapenv/lib/python3.8/site-packages/papermill/iorw.py:50: FutureWarning: pyarrow.HadoopFileSystem is deprecated as of 2.0.0, please use pyarrow.fs.HadoopFileSystem instead.\n",
      "  from pyarrow import HadoopFileSystem\n"
     ]
    },
    {
     "data": {
      "application/scrapbook.scrap.json+json": {
       "data": {
        "cpu_count": 40,
        "cpu_freq_max": 2101.0,
        "cpu_freq_min": 800.0,
        "dataset": "Avazu",
        "lightgbm_version": "3.1.1",
        "model": "SupportVectorMachine",
        "n_classes": 2,
        "n_examples_test": 1953951,
        "n_examples_train": 12642186,
        "n_features": 1000000,
        "platform": "Linux-4.15.0-151-generic-x86_64-with-glibc2.10",
        "score": "accuracy_score",
        "score_diff": 0.006501095632562855,
        "score_sklearn": 0.6476513484729146,
        "score_snapml": 0.6518617918258953,
        "sklearn_version": "1.0.1",
        "snapml_version": "1.8.3",
        "speed_up": 156.79573330109125,
        "t_fit_sklearn": 3030.642149209976,
        "t_fit_snapml": 19.328600883483887,
        "total_memory": 250.58893203735352,
        "xgboost_version": "1.3.3"
       },
       "encoder": "json",
       "name": "result",
       "version": 1
      }
     },
     "metadata": {
      "scrapbook": {
       "data": true,
       "display": false,
       "name": "result"
      }
     },
     "output_type": "display_data"
    }
   ],
   "source": [
    "import scrapbook as sb\n",
    "sb.glue(\"result\", {\n",
    "    'dataset': dataset.name,\n",
    "    'n_examples_train': X_train.shape[0],\n",
    "    'n_examples_test': X_test.shape[0],\n",
    "    'n_features': X_train.shape[1],\n",
    "    'n_classes': len(np.unique(y_train)),\n",
    "    'model': type(model).__name__,\n",
    "    'score': score.__name__,\n",
    "    't_fit_sklearn': t_fit_sklearn,\n",
    "    'score_sklearn': score_sklearn,\n",
    "    't_fit_snapml': t_fit_snapml,\n",
    "    'score_snapml': score_snapml,\n",
    "    'score_diff': score_diff,\n",
    "    'speed_up': speed_up,\n",
    "    **environment,\n",
    "})"
   ]
  }
 ],
 "metadata": {
  "kernelspec": {
   "display_name": "Python 3",
   "language": "python",
   "name": "python3"
  },
  "language_info": {
   "codemirror_mode": {
    "name": "ipython",
    "version": 3
   },
   "file_extension": ".py",
   "mimetype": "text/x-python",
   "name": "python",
   "nbconvert_exporter": "python",
   "pygments_lexer": "ipython3",
   "version": "3.8.0"
  }
 },
 "nbformat": 4,
 "nbformat_minor": 4
}
